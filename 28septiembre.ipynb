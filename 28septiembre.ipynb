{
  "nbformat": 4,
  "nbformat_minor": 0,
  "metadata": {
    "colab": {
      "name": "28septiembre.ipynb",
      "provenance": [],
      "authorship_tag": "ABX9TyN+KChslAd/v8trbJ0e3b0D",
      "include_colab_link": true
    },
    "kernelspec": {
      "name": "python3",
      "display_name": "Python 3"
    }
  },
  "cells": [
    {
      "cell_type": "markdown",
      "metadata": {
        "id": "view-in-github",
        "colab_type": "text"
      },
      "source": [
        "<a href=\"https://colab.research.google.com/github/Leonel01062001/edd_1358_2021/blob/master/28septiembre.ipynb\" target=\"_parent\"><img src=\"https://colab.research.google.com/assets/colab-badge.svg\" alt=\"Open In Colab\"/></a>"
      ]
    },
    {
      "cell_type": "code",
      "metadata": {
        "id": "A4xRVMhcX1PI",
        "outputId": "40f4aff2-7fe9-40fe-d68b-1756b50ef8d9",
        "colab": {
          "base_uri": "https://localhost:8080/",
          "height": 35
        }
      },
      "source": [
        "print (\"hola colab reserch\")\n",
        "nombre = \"El Leo\""
      ],
      "execution_count": 1,
      "outputs": [
        {
          "output_type": "stream",
          "text": [
            "hola colab reserch\n"
          ],
          "name": "stdout"
        }
      ]
    },
    {
      "cell_type": "code",
      "metadata": {
        "id": "I_rEQ-hAX2Sd",
        "outputId": "5c221155-410f-401e-b775-7baaed3af6fd",
        "colab": {
          "base_uri": "https://localhost:8080/",
          "height": 35
        }
      },
      "source": [
        "print (nombre)"
      ],
      "execution_count": 2,
      "outputs": [
        {
          "output_type": "stream",
          "text": [
            "El Leo\n"
          ],
          "name": "stdout"
        }
      ]
    },
    {
      "cell_type": "markdown",
      "metadata": {
        "id": "tRgrqZ60f_vr"
      },
      "source": [
        "# Hola, esto es un encabezado\n",
        "## encabezado nivel 2\n",
        "### sintaxis markdown\n",
        "* elem 1\n",
        "* elem 2\n",
        "* elem 3\n",
        "1. Fresa\n",
        "1. Manzana\n",
        "1. Pera\n",
        "**esto es un texto largo y quiero ponerle negritas y tambien quiero por _italica_**\n",
        "[Ir a Google](https://www.google.com)"
      ]
    },
    {
      "cell_type": "code",
      "metadata": {
        "id": "8mIS1xUYatf-",
        "outputId": "b63c5959-7fd7-4ee4-a8e5-ca0c0dcf1f78",
        "colab": {
          "base_uri": "https://localhost:8080/",
          "height": 135
        }
      },
      "source": [
        "class Silla():\n",
        " def _init_( self):\n",
        "   self.material = \"\"\n",
        "   self.color = \"\"\n",
        "\n",
        "  def to_string( self ):\n",
        "    print(\" ---------\")\n",
        "    print( f\" Material: {self.material }\")\n",
        "    print( f\"{self.color} -------\")"
      ],
      "execution_count": 7,
      "outputs": [
        {
          "output_type": "error",
          "ename": "IndentationError",
          "evalue": "ignored",
          "traceback": [
            "\u001b[0;36m  File \u001b[0;32m\"<ipython-input-7-b012a96f3f1a>\"\u001b[0;36m, line \u001b[0;32m6\u001b[0m\n\u001b[0;31m    def to_string( self }:\u001b[0m\n\u001b[0m                          ^\u001b[0m\n\u001b[0;31mIndentationError\u001b[0m\u001b[0;31m:\u001b[0m unindent does not match any outer indentation level\n"
          ]
        }
      ]
    },
    {
      "cell_type": "markdown",
      "metadata": {
        "id": "wTweFuiBhQur"
      },
      "source": [
        ""
      ]
    },
    {
      "cell_type": "code",
      "metadata": {
        "id": "zNfJ_1IXduni",
        "outputId": "935badae-979e-4a78-c790-46073fe79a49",
        "colab": {
          "base_uri": "https://localhost:8080/",
          "height": 191
        }
      },
      "source": [
        "obj = Silla()\n",
        "obj.material = \"Rojo\"\n",
        "obj.color = \"Café\"\n",
        "obj.to_string()"
      ],
      "execution_count": 6,
      "outputs": [
        {
          "output_type": "error",
          "ename": "NameError",
          "evalue": "ignored",
          "traceback": [
            "\u001b[0;31m---------------------------------------------------------------------------\u001b[0m",
            "\u001b[0;31mNameError\u001b[0m                                 Traceback (most recent call last)",
            "\u001b[0;32m<ipython-input-6-7aec289686e3>\u001b[0m in \u001b[0;36m<module>\u001b[0;34m()\u001b[0m\n\u001b[0;32m----> 1\u001b[0;31m \u001b[0mobj\u001b[0m \u001b[0;34m=\u001b[0m \u001b[0mSilla\u001b[0m\u001b[0;34m(\u001b[0m\u001b[0;34m)\u001b[0m\u001b[0;34m\u001b[0m\u001b[0;34m\u001b[0m\u001b[0m\n\u001b[0m\u001b[1;32m      2\u001b[0m \u001b[0mobj\u001b[0m\u001b[0;34m.\u001b[0m\u001b[0mto_string\u001b[0m\u001b[0;34m(\u001b[0m\u001b[0;34m)\u001b[0m\u001b[0;34m\u001b[0m\u001b[0;34m\u001b[0m\u001b[0m\n",
            "\u001b[0;31mNameError\u001b[0m: name 'Silla' is not defined"
          ]
        }
      ]
    }
  ]
}