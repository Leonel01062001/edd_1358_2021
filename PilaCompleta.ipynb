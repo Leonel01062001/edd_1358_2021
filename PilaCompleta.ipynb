{
  "nbformat": 4,
  "nbformat_minor": 0,
  "metadata": {
    "colab": {
      "name": "PilaCompleta.ipynb",
      "provenance": [],
      "authorship_tag": "ABX9TyNH5ZOUasEJNCS1CKssu245",
      "include_colab_link": true
    },
    "kernelspec": {
      "name": "python3",
      "display_name": "Python 3"
    }
  },
  "cells": [
    {
      "cell_type": "markdown",
      "metadata": {
        "id": "view-in-github",
        "colab_type": "text"
      },
      "source": [
        "<a href=\"https://colab.research.google.com/github/Leonel01062001/edd_1358_2021/blob/master/PilaCompleta.ipynb\" target=\"_parent\"><img src=\"https://colab.research.google.com/assets/colab-badge.svg\" alt=\"Open In Colab\"/></a>"
      ]
    },
    {
      "cell_type": "code",
      "metadata": {
        "id": "UZiP4bGeNLRH"
      },
      "source": [
        "class Stack:\r\n",
        "  def __init__( self ):\r\n",
        "    self.__data = []\r\n",
        "    self.__size = 0\r\n",
        "\r\n",
        "  def pop( self ):\r\n",
        "    self.__size -=1\r\n",
        "    return self.__data.pop()\r\n",
        "\r\n",
        "  def get_size( self ):\r\n",
        "    return self.__size\r\n",
        "\r\n",
        "  def is_empty(self):\r\n",
        "    return self.__size==0\r\n",
        "\r\n",
        "  def length(self):\r\n",
        "    return self.__size\r\n",
        "\r\n",
        "  def peek( self ):\r\n",
        "    return self.__data[-1]\r\n",
        "\r\n",
        "  def push (self, value ):\r\n",
        "    self.__size +=1\r\n",
        "    return self.__data.append( value )\r\n",
        "\r\n",
        "  def to_string( self ):\r\n",
        "    print(\"-------\")\r\n",
        "    for dato in self.__data[ : :-1]:\r\n",
        "      print( f\"| { dato } |\")\r\n",
        "      print(\"-------\")"
      ],
      "execution_count": 4,
      "outputs": []
    },
    {
      "cell_type": "code",
      "metadata": {
        "colab": {
          "base_uri": "https://localhost:8080/"
        },
        "id": "-fj4ll3jORUU",
        "outputId": "2dd79b8c-3fe7-4bab-d697-3f56c08ac479"
      },
      "source": [
        "pl = Stack()\r\n",
        "print(pl.is_empty())\r\n",
        "pl.push(34)\r\n",
        "pl.push(10)\r\n",
        "pl.push(45)\r\n",
        "pl.push(4)\r\n",
        "pl.push(23)\r\n",
        "pl.push(33)\r\n",
        "pl.to_string()\r\n",
        "print(pl.is_empty())\r\n",
        "print(pl.length())\r\n"
      ],
      "execution_count": 8,
      "outputs": [
        {
          "output_type": "stream",
          "text": [
            "True\n",
            "-------\n",
            "| 33 |\n",
            "-------\n",
            "| 23 |\n",
            "-------\n",
            "| 4 |\n",
            "-------\n",
            "| 45 |\n",
            "-------\n",
            "| 10 |\n",
            "-------\n",
            "| 34 |\n",
            "-------\n",
            "False\n",
            "6\n"
          ],
          "name": "stdout"
        }
      ]
    }
  ]
}