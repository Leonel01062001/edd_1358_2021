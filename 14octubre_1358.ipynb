{
  "nbformat": 4,
  "nbformat_minor": 0,
  "metadata": {
    "colab": {
      "name": "14octubre_1358.ipynb",
      "provenance": [],
      "authorship_tag": "ABX9TyP0IzVSHbyptY6UMsnmY6Au",
      "include_colab_link": true
    },
    "kernelspec": {
      "name": "python3",
      "display_name": "Python 3"
    }
  },
  "cells": [
    {
      "cell_type": "markdown",
      "metadata": {
        "id": "view-in-github",
        "colab_type": "text"
      },
      "source": [
        "<a href=\"https://colab.research.google.com/github/Leonel01062001/edd_1358_2021/blob/master/14octubre_1358.ipynb\" target=\"_parent\"><img src=\"https://colab.research.google.com/assets/colab-badge.svg\" alt=\"Open In Colab\"/></a>"
      ]
    },
    {
      "cell_type": "code",
      "metadata": {
        "id": "BbR4fNxEnpCc"
      },
      "source": [
        "def calcular(a, b, c):\n",
        "  x = a + (b / c)\n",
        "  return x\n",
        "\n",
        "print(calcular(5 , 9 , 3))\n",
        "print(calcular( a=5 , c=3 , b=9)) #se le asigna el valor de variable en lugar de depender de la posición\n",
        "\n",
        "def calcular_v2( a = 10, b = 20, c = 5):\n",
        "  x = a + ( b / c )\n",
        "  return x\n",
        "\n",
        "print(calcular_v2(40))#sin argumentos toma los valores por defecto\n",
        "\n"
      ],
      "execution_count": null,
      "outputs": []
    },
    {
      "cell_type": "markdown",
      "metadata": {
        "id": "Xs3nvdlarvUm"
      },
      "source": [
        "# argumentos a funciones por tupla *\n",
        "se envian los argumentos en un conjunto de elementos dentro de una tupla"
      ]
    },
    {
      "cell_type": "code",
      "metadata": {
        "id": "g2JJYRH7r5cg",
        "outputId": "808eaabb-60f5-4848-dbc6-02bec5bff2f1",
        "colab": {
          "base_uri": "https://localhost:8080/",
          "height": 54
        }
      },
      "source": [
        "def calculo( *elem ):#el operador asterisco me deja una tupla\n",
        "  print(elem)\n",
        "  x = elem[0] + (elem[1] / elem[2] )\n",
        "  return x\n",
        "\n",
        "print (calculo(5,9,3,8,8,8))#guarda todos los valores, pero solo uso los primeros 3"
      ],
      "execution_count": 6,
      "outputs": [
        {
          "output_type": "stream",
          "text": [
            "(5, 9, 3)\n",
            "8.0\n"
          ],
          "name": "stdout"
        }
      ]
    },
    {
      "cell_type": "markdown",
      "metadata": {
        "id": "wrsA3Z6os5E6"
      },
      "source": [
        "#argumentos como diccionario **"
      ]
    },
    {
      "cell_type": "code",
      "metadata": {
        "id": "ry5EEVfNs106",
        "outputId": "95545cc8-059f-444b-a30a-d4b517b9423d",
        "colab": {
          "base_uri": "https://localhost:8080/",
          "height": 54
        }
      },
      "source": [
        "def calculo(**elem):\n",
        "  print(elem)\n",
        "  x = elem[\"a\"] + (elem[\"b\"] / elem[\"c\"])\n",
        "  return x\n",
        "\n",
        "print(calculo(a=5,b=9,c=3))"
      ],
      "execution_count": 8,
      "outputs": [
        {
          "output_type": "stream",
          "text": [
            "{'a': 5, 'b': 9, 'c': 3}\n",
            "8.0\n"
          ],
          "name": "stdout"
        }
      ]
    },
    {
      "cell_type": "markdown",
      "metadata": {
        "id": "VzYgjrFk2eBs"
      },
      "source": [
        "#Archivos \n",
        "_ abrirlos\n",
        "  - un str con la ruta el archivo\n",
        "  - dos caracteres: 1 -> modo de apertura (r, w) y el 2 formato (texto o BBinario)\n",
        "_ leerlos\n",
        "_ modificarlos"
      ]
    },
    {
      "cell_type": "code",
      "metadata": {
        "id": "Qjz-YOXA3HWs"
      },
      "source": [
        "archivo = open(\"ejemplo.txt\", \"wt\")\n",
        "archivo.write(\"hola mundo de archivos\")\n",
        "archivo.close()"
      ],
      "execution_count": 12,
      "outputs": []
    },
    {
      "cell_type": "code",
      "metadata": {
        "id": "_RFR9Q1n4aus",
        "outputId": "3e8c2dcd-1d4f-4d73-ed2b-961177dbab95",
        "colab": {
          "base_uri": "https://localhost:8080/",
          "height": 35
        }
      },
      "source": [
        "cat ejemplo.txt #comando de sistema operativo para abrir el archivo"
      ],
      "execution_count": 14,
      "outputs": [
        {
          "output_type": "stream",
          "text": [
            "hola mundo de archivos"
          ],
          "name": "stdout"
        }
      ]
    },
    {
      "cell_type": "code",
      "metadata": {
        "id": "DG2MdSdp5RT_"
      },
      "source": [
        "#mkdir ejemplo #crea un directorio vacio\n",
        "#(touch nuevo.txt) #crea un archivo vacio, el ! es para decir que es un comando\n",
        "!(cat ejemplo.txt > otra.txt)"
      ],
      "execution_count": 16,
      "outputs": []
    }
  ]
}