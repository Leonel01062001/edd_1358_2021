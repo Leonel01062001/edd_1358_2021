{
  "nbformat": 4,
  "nbformat_minor": 0,
  "metadata": {
    "colab": {
      "name": "19octubre_1358.ipynb",
      "provenance": [],
      "authorship_tag": "ABX9TyMKUHJSCFO9jUXWy9LUKRf8",
      "include_colab_link": true
    },
    "kernelspec": {
      "name": "python3",
      "display_name": "Python 3"
    }
  },
  "cells": [
    {
      "cell_type": "markdown",
      "metadata": {
        "id": "view-in-github",
        "colab_type": "text"
      },
      "source": [
        "<a href=\"https://colab.research.google.com/github/Leonel01062001/edd_1358_2021/blob/master/19octubre_1358.ipynb\" target=\"_parent\"><img src=\"https://colab.research.google.com/assets/colab-badge.svg\" alt=\"Open In Colab\"/></a>"
      ]
    },
    {
      "cell_type": "code",
      "metadata": {
        "id": "JODMBdR7YZES",
        "outputId": "44671bd9-1a16-4624-954e-ab4f1b24c69d",
        "colab": {
          "base_uri": "https://localhost:8080/",
          "height": 72
        }
      },
      "source": [
        "# funcion read(direccion del archivo, que vamos a hacer)\n",
        "archivo = open(\"frutas.txt\", \"rt\") #abrir un archivo\n",
        "\n",
        "data = archivo.read()\n",
        "print(data)\n",
        "\n",
        "archivo.close()\n",
        "\n"
      ],
      "execution_count": 1,
      "outputs": [
        {
          "output_type": "stream",
          "text": [
            "lo,on, aguacate, fresa, manzana\n",
            "ciruela, capilin, naranja\n",
            "pera, kiwi\n"
          ],
          "name": "stdout"
        }
      ]
    },
    {
      "cell_type": "code",
      "metadata": {
        "id": "WPkMPZPfcjkw",
        "outputId": "bb81c670-f557-4c3a-9602-b9dd7fee6806",
        "colab": {
          "base_uri": "https://localhost:8080/",
          "height": 109
        }
      },
      "source": [
        "#readline() lee linea por linea\n",
        "archivo = open(\"frutas.txt\",\"rt\")\n",
        "print(archivo.readline())\n",
        "print(archivo.readline())\n",
        "print(archivo.readline())\n",
        "\n",
        "archivo.close()"
      ],
      "execution_count": 10,
      "outputs": [
        {
          "output_type": "stream",
          "text": [
            "limon, aguacate, fresa, manzana\n",
            "\n",
            "ciruela, capilin, naranja\n",
            "\n",
            "pera, kiwi\n"
          ],
          "name": "stdout"
        }
      ]
    },
    {
      "cell_type": "code",
      "metadata": {
        "id": "_-b64LYRfpmB",
        "outputId": "c3f682d7-17fc-4c45-a4bd-d3c977bc08fb",
        "colab": {
          "base_uri": "https://localhost:8080/",
          "height": 109
        }
      },
      "source": [
        "#redline \n",
        "archivo = open(\"frutas.txt\",\"rt\")\n",
        "\n",
        "data = archivo.readline()\n",
        "while data != \"\":\n",
        "  print(data)\n",
        "  data = archivo.readline()\n",
        "\n",
        "archivo.close()"
      ],
      "execution_count": 12,
      "outputs": [
        {
          "output_type": "stream",
          "text": [
            "limon, aguacate, fresa, manzana\n",
            "\n",
            "ciruela, capilin, naranja\n",
            "\n",
            "pera, kiwi\n"
          ],
          "name": "stdout"
        }
      ]
    },
    {
      "cell_type": "code",
      "metadata": {
        "id": "G_Fv62FogF9I",
        "outputId": "2f822ea7-3736-485a-8b36-efd5fcd3aac4",
        "colab": {
          "base_uri": "https://localhost:8080/",
          "height": 55
        }
      },
      "source": [
        "#readline\n",
        "archivo = open(\"frutas.txt\",\"rt\")\n",
        "data = archivo.readlines()\n",
        "print(data)\n",
        "\n",
        "archivo.close()"
      ],
      "execution_count": 13,
      "outputs": [
        {
          "output_type": "stream",
          "text": [
            "['limon, aguacate, fresa, manzana\\n', 'ciruela, capilin, naranja\\n', 'pera, kiwi']\n"
          ],
          "name": "stdout"
        }
      ]
    },
    {
      "cell_type": "code",
      "metadata": {
        "id": "RZnx4AuQih9R",
        "outputId": "99b8cf70-e899-4bb6-87cd-613d3a5104d5",
        "colab": {
          "base_uri": "https://localhost:8080/",
          "height": 74
        }
      },
      "source": [
        "#readline\n",
        "archivo = open(\"frutas.txt\",\"rt\")\n",
        "data = archivo.readlines()\n",
        "print(data)\n",
        "\n",
        "frutas = []\n",
        "for linea in data:\n",
        "  frutas.append(linea.strip())\n",
        "\n",
        "frutas_final = []\n",
        "for elem in frutas:\n",
        "  for fruta in elem.split(\",\"):\n",
        "    frutas_final.append(fruta.strip())\n",
        "\n",
        "\n",
        "print(frutas_final)\n",
        "archivo.close()"
      ],
      "execution_count": 15,
      "outputs": [
        {
          "output_type": "stream",
          "text": [
            "['limon, aguacate, fresa, manzana\\n', 'ciruela, capilin, naranja\\n', 'pera, kiwi']\n",
            "['limon', 'aguacate', 'fresa', 'manzana', 'ciruela', 'capilin', 'naranja', 'pera', 'kiwi']\n"
          ],
          "name": "stdout"
        }
      ]
    },
    {
      "cell_type": "markdown",
      "metadata": {
        "id": "hzw7j2V_lDx5"
      },
      "source": [
        "#POO con python\n",
        "- clase\n",
        "- objeto\n",
        "- atributos\n",
        "- metodos\n",
        "- metodo cconstructor\n",
        "- encapsulamiento (publico y pricado)\n",
        "- herencia\n",
        "\n",
        "pra declarar clases en python se usa la palabra reservada class"
      ]
    },
    {
      "cell_type": "code",
      "metadata": {
        "id": "masLypIQlqwt",
        "outputId": "85d60ef5-ab93-4685-d11d-c09c10770a87",
        "colab": {
          "base_uri": "https://localhost:8080/",
          "height": 54
        }
      },
      "source": [
        "class Persona:\n",
        "  def __init__( self, edd, est ):\n",
        "    self.edad = edd\n",
        "    self.estatura = est\n",
        "\n",
        "  def to_string( self ):\n",
        "    print(f\"Edad = {self.edad}, est = {self.estatura}\")\n",
        "\n",
        "per1 = Persona(23, 1.78)\n",
        "per1.to_string()\n",
        "per1.estatura = 10.4\n",
        "per1.to_string()"
      ],
      "execution_count": 23,
      "outputs": [
        {
          "output_type": "stream",
          "text": [
            "Edad = 23, est = 1.78\n",
            "Edad = 23, est = 10.4\n"
          ],
          "name": "stdout"
        }
      ]
    }
  ]
}