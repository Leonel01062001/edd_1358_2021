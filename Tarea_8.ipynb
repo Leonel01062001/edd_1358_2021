{
  "nbformat": 4,
  "nbformat_minor": 0,
  "metadata": {
    "colab": {
      "name": "Tarea 8.ipynb",
      "provenance": [],
      "authorship_tag": "ABX9TyNQ94C7xukN+Y/JaPgWdyuE",
      "include_colab_link": true
    },
    "kernelspec": {
      "name": "python3",
      "display_name": "Python 3"
    }
  },
  "cells": [
    {
      "cell_type": "markdown",
      "metadata": {
        "id": "view-in-github",
        "colab_type": "text"
      },
      "source": [
        "<a href=\"https://colab.research.google.com/github/Leonel01062001/edd_1358_2021/blob/master/Tarea_8.ipynb\" target=\"_parent\"><img src=\"https://colab.research.google.com/assets/colab-badge.svg\" alt=\"Open In Colab\"/></a>"
      ]
    },
    {
      "cell_type": "code",
      "metadata": {
        "id": "weYCI1KTe4dw"
      },
      "source": [
        "class PriorityQueue:\r\n",
        "  def __init__( self ):\r\n",
        "    self.__data = list()\r\n",
        "    self.__size = 0\r\n",
        "\r\n",
        "  def is_empty( self ):\r\n",
        "    return self.__size == 0\r\n",
        "\r\n",
        "  def length ( self ):\r\n",
        "    return self.__size\r\n",
        "\r\n",
        "  def enqueue ( self, prioridad, elemento):\r\n",
        "    if prioridad < 0:\r\n",
        "      print(\"Prioridad negativa, no es válida\")\r\n",
        "    else:\r\n",
        "      if prioridad >= len(self.__data):\r\n",
        "        for x in range(prioridad - len(self.__data)+1):\r\n",
        "          self.__data.append(list())\r\n",
        "      self.__data[prioridad].append(elemento)\r\n",
        "      self.__size = self.__size + 1\r\n",
        "\r\n",
        "  def dequeue(self):\r\n",
        "    if not self.is_empty():\r\n",
        "      self.__size = self.__size - 1\r\n",
        "      return self.__data.pop(0)\r\n",
        "    else:\r\n",
        "      return None\r\n",
        "\r\n",
        "  def to_string( self ):\r\n",
        "    for elem in self.__data:\r\n",
        "      print(f\"| { elem } \", end=\"\")\r\n",
        "    print(\"|\")\r\n",
        "\r\n",
        "\r\n"
      ],
      "execution_count": 30,
      "outputs": []
    },
    {
      "cell_type": "code",
      "metadata": {
        "colab": {
          "base_uri": "https://localhost:8080/"
        },
        "id": "0QOITDPXkyOj",
        "outputId": "5a657252-be13-47cb-b1b3-9fcbc0aab879"
      },
      "source": [
        "prueba = PriorityQueue()\r\n",
        "print(\"Antes de meter datos aqui probamos si comprueba correctamente si está vacia\")\r\n",
        "print(prueba.is_empty())\r\n",
        "prueba.enqueue(0,\"Embarazadas\")\r\n",
        "prueba.enqueue(1,\"Personas de la tercera edad\")\r\n",
        "prueba.enqueue(2,\"Discapacitados\")\r\n",
        "prueba.enqueue(3,\"Bebes\")\r\n",
        "print(\"Aquí observamos el numero de elementos que hay:\")\r\n",
        "print(prueba.length())\r\n",
        "print(\"después de meter datos aquí probamos con to_string que se coloquen correctamente en su lugar\")\r\n",
        "prueba.to_string()\r\n",
        "print(\"Aquí quitamos el primer elemento y observamos que efectivamente quitó el de primera prioridad\")\r\n",
        "prueba.dequeue()\r\n",
        "print(\"Aquí vemos la nueva cola sin el primer elemento\")\r\n",
        "prueba.to_string()\r\n"
      ],
      "execution_count": 36,
      "outputs": [
        {
          "output_type": "stream",
          "text": [
            "Antes de meter datos aqui probamos si comprueba correctamente si está vacia\n",
            "True\n",
            "Aquí observamos el numero de elementos que hay:\n",
            "4\n",
            "después de meter datos aquí probamos con to_string que se coloquen correctamente en su lugar\n",
            "| ['Embarazadas'] | ['Personas de la tercera edad'] | ['Discapacitados'] | ['Bebes'] |\n",
            "Aquí quitamos el primer elemento y observamos que efectivamente quitó el de primera prioridad\n",
            "Aquí vemos la nueva cola sin el primer elemento\n",
            "| ['Personas de la tercera edad'] | ['Discapacitados'] | ['Bebes'] |\n"
          ],
          "name": "stdout"
        }
      ]
    }
  ]
}