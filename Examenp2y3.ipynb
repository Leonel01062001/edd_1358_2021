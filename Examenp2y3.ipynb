{
  "nbformat": 4,
  "nbformat_minor": 0,
  "metadata": {
    "colab": {
      "name": "Examenp2y3.ipynb",
      "provenance": [],
      "authorship_tag": "ABX9TyN42B2IJ6eX5LrpZ7ivPF40",
      "include_colab_link": true
    },
    "kernelspec": {
      "name": "python3",
      "display_name": "Python 3"
    }
  },
  "cells": [
    {
      "cell_type": "markdown",
      "metadata": {
        "id": "view-in-github",
        "colab_type": "text"
      },
      "source": [
        "<a href=\"https://colab.research.google.com/github/Leonel01062001/edd_1358_2021/blob/master/Examenp2y3.ipynb\" target=\"_parent\"><img src=\"https://colab.research.google.com/assets/colab-badge.svg\" alt=\"Open In Colab\"/></a>"
      ]
    },
    {
      "cell_type": "code",
      "metadata": {
        "id": "Kb9iXPA5z2Tx"
      },
      "source": [
        "class Stack:\r\n",
        "  def __init__( self ):\r\n",
        "    self.__data = []\r\n",
        "    self.__size = 0\r\n",
        "\r\n",
        "  def pop( self ):\r\n",
        "    self.__size -=1\r\n",
        "    return self.__data.pop()\r\n",
        "\r\n",
        "  def get_size( self ):\r\n",
        "    return self.__size\r\n",
        "\r\n",
        "  def is_empty(self):\r\n",
        "    return self.__size==0\r\n",
        "\r\n",
        "  def length(self):\r\n",
        "    return self.__size\r\n",
        "\r\n",
        "  def peek( self ):\r\n",
        "    return self.__data[-1]\r\n",
        "\r\n",
        "  def push (self, value ):\r\n",
        "    self.__size +=1\r\n",
        "    return self.__data.append( value )\r\n",
        "\r\n",
        "  def to_string( self ):\r\n",
        "    print(\"-------\")\r\n",
        "    for dato in self.__data[ : :-1]:\r\n",
        "      print( f\"| { dato } |\")\r\n",
        "      print(\"-------\")"
      ],
      "execution_count": 1,
      "outputs": []
    },
    {
      "cell_type": "code",
      "metadata": {
        "colab": {
          "base_uri": "https://localhost:8080/"
        },
        "id": "l1_m4VUv0PVu",
        "outputId": "d52d5da1-2c01-45b3-c39c-644cad52c0b7"
      },
      "source": [
        "pl = Stack()\r\n",
        "pl.push(42)\r\n",
        "pl.push(23)\r\n",
        "pl.push(15)\r\n",
        "pl.push(44)\r\n",
        "print(\"El estado de la pila es: \")\r\n",
        "pl.to_string()\r\n",
        "print(\"El tamaño de la pila es: \")\r\n",
        "print(pl.length())"
      ],
      "execution_count": 7,
      "outputs": [
        {
          "output_type": "stream",
          "text": [
            "El estado de la pila es: \n",
            "-------\n",
            "| 44 |\n",
            "-------\n",
            "| 15 |\n",
            "-------\n",
            "| 23 |\n",
            "-------\n",
            "| 42 |\n",
            "-------\n",
            "El tamaño de la pila es: \n",
            "4\n"
          ],
          "name": "stdout"
        }
      ]
    },
    {
      "cell_type": "code",
      "metadata": {
        "colab": {
          "base_uri": "https://localhost:8080/"
        },
        "id": "SIwGyRee0kQy",
        "outputId": "6abb0bd5-be69-497c-d166-859f8dcd48b2"
      },
      "source": [
        "print(\"primer numero:\")\r\n",
        "dato1= input()\r\n",
        "print(\"segundo numero:\")\r\n",
        "dato2= input()\r\n",
        "if dato1 == dato2:\r\n",
        "  print(\"Los numeros son iguales\")\r\n",
        "elif dato1 > dato2:\r\n",
        "  print(\"El primer dato es mayor\")\r\n",
        "else:\r\n",
        "  print(\"El segundo dato es mayor\")"
      ],
      "execution_count": 8,
      "outputs": [
        {
          "output_type": "stream",
          "text": [
            "primer numero:\n",
            "5\n",
            "segundo numero:\n",
            "2\n",
            "El primer dato es mayor\n"
          ],
          "name": "stdout"
        }
      ]
    }
  ]
}