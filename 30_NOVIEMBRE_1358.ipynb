{
  "nbformat": 4,
  "nbformat_minor": 0,
  "metadata": {
    "colab": {
      "name": "30_NOVIEMBRE_1358.ipynb",
      "provenance": [],
      "authorship_tag": "ABX9TyM5saa91mI6zzgVO0Zo2c5s",
      "include_colab_link": true
    },
    "kernelspec": {
      "name": "python3",
      "display_name": "Python 3"
    }
  },
  "cells": [
    {
      "cell_type": "markdown",
      "metadata": {
        "id": "view-in-github",
        "colab_type": "text"
      },
      "source": [
        "<a href=\"https://colab.research.google.com/github/Leonel01062001/edd_1358_2021/blob/master/30_NOVIEMBRE_1358.ipynb\" target=\"_parent\"><img src=\"https://colab.research.google.com/assets/colab-badge.svg\" alt=\"Open In Colab\"/></a>"
      ]
    },
    {
      "cell_type": "code",
      "metadata": {
        "id": "RQ03K_dA6WZ2"
      },
      "source": [
        "class Stack:\n",
        "  def __init__( self ):\n",
        "    self.__data = []\n",
        "    self.__size = 0\n",
        "\n",
        "  def pop( self ):\n",
        "    return self.__data.pop()\n",
        "\n",
        "  def peek( self ):\n",
        "    return self.__data[-1]\n",
        "\n",
        "  def push (self, value ):\n",
        "    return self.__data.append( value )\n",
        "\n",
        "  def to_string( self ):\n",
        "    print(\"-------\")\n",
        "    for dato in self.__data[ : :-1]:\n",
        "      print( f\"| { dato } |\")\n",
        "      print(\"-------\")"
      ],
      "execution_count": 16,
      "outputs": []
    },
    {
      "cell_type": "code",
      "metadata": {
        "colab": {
          "base_uri": "https://localhost:8080/"
        },
        "id": "WrFkqVRN9SuX",
        "outputId": "0a91d944-861e-4657-ca43-0e8b2740ba92"
      },
      "source": [
        "pl = Stack()\n",
        "pl.push(34)\n",
        "pl.push(10)\n",
        "pl.push(45)\n",
        "pl.push(4)\n",
        "pl.push(23)\n",
        "pl.push(33)\n",
        "pl.to_string()\n",
        "print(\"------------------------------- \\n \\n \")\n",
        "valor = pl.pop()\n",
        "print( valor * 2)\n",
        "pl.to_string()\n",
        "print(\"------------------------------- \\n \\n \")\n",
        "valor = pl.peek()\n",
        "print( valor * 2)\n",
        "pl.to_string()"
      ],
      "execution_count": 20,
      "outputs": [
        {
          "output_type": "stream",
          "text": [
            "-------\n",
            "| 33 |\n",
            "-------\n",
            "| 23 |\n",
            "-------\n",
            "| 4 |\n",
            "-------\n",
            "| 45 |\n",
            "-------\n",
            "| 10 |\n",
            "-------\n",
            "| 34 |\n",
            "-------\n",
            "------------------------------- \n",
            " \n",
            " \n",
            "66\n",
            "-------\n",
            "| 23 |\n",
            "-------\n",
            "| 4 |\n",
            "-------\n",
            "| 45 |\n",
            "-------\n",
            "| 10 |\n",
            "-------\n",
            "| 34 |\n",
            "-------\n",
            "------------------------------- \n",
            " \n",
            " \n",
            "46\n",
            "-------\n",
            "| 23 |\n",
            "-------\n",
            "| 4 |\n",
            "-------\n",
            "| 45 |\n",
            "-------\n",
            "| 10 |\n",
            "-------\n",
            "| 34 |\n",
            "-------\n"
          ],
          "name": "stdout"
        }
      ]
    },
    {
      "cell_type": "code",
      "metadata": {
        "colab": {
          "base_uri": "https://localhost:8080/"
        },
        "id": "NZ9vz8jKB5rq",
        "outputId": "f115d5e3-9f04-4c9b-9fd5-d3a7766f716c"
      },
      "source": [
        "# aplicaciónes de la estructura Stack\n",
        "# 1.- validación de parentesis balanceados '(' , '{' y '['\n",
        "\n",
        "cadena =\"b=3*(5+(4/2))\"\n",
        "pila = Stack()\n",
        "pila.push(\"#\") #caracter de pila vacía.\n",
        "for elem in cadena:\n",
        "  if elem == '(':\n",
        "    pila.push(\"*\")\n",
        "  elif elem == \")\":\n",
        "    pila.pop()\n",
        "  else:\n",
        "    pass\n",
        "if pila.peek() == \"#\":\n",
        "  print(\"La expresion está balanceada en parentesis\")\n",
        "else:\n",
        "  print(\"La expresion no está balanceada\")\n"
      ],
      "execution_count": 23,
      "outputs": [
        {
          "output_type": "stream",
          "text": [
            "La expresion no está balanceada\n"
          ],
          "name": "stdout"
        }
      ]
    }
  ]
}