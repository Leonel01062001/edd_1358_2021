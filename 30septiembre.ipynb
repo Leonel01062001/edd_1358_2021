{
  "nbformat": 4,
  "nbformat_minor": 0,
  "metadata": {
    "colab": {
      "name": "30septiembre.ipynb",
      "provenance": [],
      "authorship_tag": "ABX9TyNEKXDQkcBo8W1nhWP6TbGq",
      "include_colab_link": true
    },
    "kernelspec": {
      "name": "python3",
      "display_name": "Python 3"
    }
  },
  "cells": [
    {
      "cell_type": "markdown",
      "metadata": {
        "id": "view-in-github",
        "colab_type": "text"
      },
      "source": [
        "<a href=\"https://colab.research.google.com/github/Leonel01062001/edd_1358_2021/blob/master/30septiembre.ipynb\" target=\"_parent\"><img src=\"https://colab.research.google.com/assets/colab-badge.svg\" alt=\"Open In Colab\"/></a>"
      ]
    },
    {
      "cell_type": "markdown",
      "metadata": {
        "id": "q6T3RKdfss-W"
      },
      "source": [
        "\n",
        "# Fundamentos de Python 3\n",
        "edad = 13\n",
        "nombre = \"José\"\n",
        "estatura = 1.67\n",
        "tiene_ine = true\n",
        "\n",
        "### compuestos\n",
        "\n",
        "#### Listas\n",
        "son mutables \n",
        "se accedea los elementos via el indice\n",
        "los elementos pueden ser de diferente tipo\n",
        "lista ejemplo = [\"manzana, 1.57, true, rojo, azul\"] (es como un array, pero que puede guardar varios tipos de variables a la vez)\n",
        "\n",
        "#### Tuplas\n",
        "Son inmutables\n",
        "se accedea los elementos via el indice\n",
        "los elementos pueden ser de diferente tipo\n",
        "tupla_ejemplo = [\"root\" , \"123,322\" , \"123dias\"]\n",
        "#### Diccionarios\n",
        "Son equivalentes a loos Json de java escript\n",
        "#### Sets\n",
        "Son datos agrupados\n",
        "\n"
      ]
    },
    {
      "cell_type": "code",
      "metadata": {
        "id": "yBc0Bbb5sgTM",
        "outputId": "13297615-f473-4263-f929-b7a12719a646",
        "colab": {
          "base_uri": "https://localhost:8080/",
          "height": 237
        }
      },
      "source": [
        "lista_ejemplo = [\"manzana\", 1.57 , True, [\"rojo\", \"azul\"]]\n",
        "print(lista_ejemplo[1])\n",
        "print(lista_ejemplo[2])\n",
        "print(lista_ejemplo[3][1])\n",
        "lista_ejemplo[0] = \"Manzana\"\n",
        "print(lista_ejemplo)\n",
        "# agregar un elemento al final\n",
        "lista_ejemplo.append(\"iPhone\")\n",
        "print(lista_ejemplo)\n",
        "#sacas el último elemento de la lista\n",
        "valor = lista_ejemplo.pop()\n",
        "print(valor)\n",
        "print(lista_ejemplo)\n",
        "\n",
        "# documentación del tipo de dato lista dir() y help()\n",
        "# dir(list)\n",
        "# help(valor)\n",
        "print(\"------------------\")\n",
        "#insertas un dato en un lugar que tu elijas\n",
        "lista_ejemplo.insert(1, \"Huweii\")\n",
        "print(lista_ejemplo)\n",
        "#cuenta cuantos valores hay de un tipo\n",
        "conteo = lista_ejemplo.count(\"Huweii\")\n",
        "print(conteo)\n",
        "#añade al final de la lista un nuevo elemento\n",
        "colores = [\"rosa\", \"fusha u.u\", \"negro\"]\n",
        "lista_ejemplo.append(colores)\n",
        "print(lista_ejemplo)\n",
        "\n",
        "#con append fusionas dos listas\n",
        "lista_ejemplo.extend(colores)\n",
        "print(lista_ejemplo)"
      ],
      "execution_count": 15,
      "outputs": [
        {
          "output_type": "stream",
          "text": [
            "1.57\n",
            "True\n",
            "azul\n",
            "['Manzana', 1.57, True, ['rojo', 'azul']]\n",
            "['Manzana', 1.57, True, ['rojo', 'azul'], 'iPhone']\n",
            "iPhone\n",
            "['Manzana', 1.57, True, ['rojo', 'azul']]\n",
            "------------------\n",
            "['Manzana', 'Huweii', 1.57, True, ['rojo', 'azul']]\n",
            "1\n",
            "['Manzana', 'Huweii', 1.57, True, ['rojo', 'azul'], ['rosa', 'fusha u.u', 'negro']]\n",
            "['Manzana', 'Huweii', 1.57, True, ['rojo', 'azul'], ['rosa', 'fusha u.u', 'negro'], 'rosa', 'fusha u.u', 'negro']\n"
          ],
          "name": "stdout"
        }
      ]
    }
  ]
}