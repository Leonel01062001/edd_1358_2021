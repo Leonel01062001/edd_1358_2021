{
  "nbformat": 4,
  "nbformat_minor": 0,
  "metadata": {
    "colab": {
      "name": "Enero_11_1358.ipynb",
      "provenance": [],
      "authorship_tag": "ABX9TyNOpX69kTBqU+nP86hrMQi4",
      "include_colab_link": true
    },
    "kernelspec": {
      "name": "python3",
      "display_name": "Python 3"
    }
  },
  "cells": [
    {
      "cell_type": "markdown",
      "metadata": {
        "id": "view-in-github",
        "colab_type": "text"
      },
      "source": [
        "<a href=\"https://colab.research.google.com/github/Leonel01062001/edd_1358_2021/blob/master/Enero_11_1358.ipynb\" target=\"_parent\"><img src=\"https://colab.research.google.com/assets/colab-badge.svg\" alt=\"Open In Colab\"/></a>"
      ]
    },
    {
      "cell_type": "code",
      "metadata": {
        "id": "nQIQT1-bNlzT"
      },
      "source": [
        "class NodoArbol:\r\n",
        "  def __init__( self, dato, hijo_izq=None, hijo_der=None):\r\n",
        "    self.dato = dato\r\n",
        "    self.hijo_izq = hijo_izq\r\n",
        "    self.hijo_der = hijo_der\r\n"
      ],
      "execution_count": 1,
      "outputs": []
    },
    {
      "cell_type": "code",
      "metadata": {
        "colab": {
          "base_uri": "https://localhost:8080/"
        },
        "id": "EGqiHokBRDLt",
        "outputId": "8e63d7ed-cbd9-46e0-8890-e044e23e06c4"
      },
      "source": [
        "arbol = NodoArbol(\"R\")\r\n",
        "arbol.hijo_izq = NodoArbol(\"C\")\r\n",
        "arbol.hijo_der = NodoArbol(\"H\")\r\n",
        "#imprimir la raiz\r\n",
        "print(arbol.dato)\r\n",
        "#imprimir el hijo izq\r\n",
        "print(arbol.hijo_izq.dato)\r\n",
        "#imprimir la raiz\r\n",
        "print(arbol.hijo_der.dato)"
      ],
      "execution_count": 4,
      "outputs": [
        {
          "output_type": "stream",
          "text": [
            "R\n",
            "C\n",
            "H\n"
          ],
          "name": "stdout"
        }
      ]
    },
    {
      "cell_type": "code",
      "metadata": {
        "colab": {
          "base_uri": "https://localhost:8080/"
        },
        "id": "EcXgSdLLSwbF",
        "outputId": "181b2d7b-9d81-4827-9132-4b3393782d3b"
      },
      "source": [
        "arbol_v2 = NodoArbol(\"R\", NodoArbol(\"C\") , NodoArbol(\"H\"))\r\n",
        "#imprimir la raiz\r\n",
        "print(arbol_v2.dato)\r\n",
        "#imprimir el hijo izq\r\n",
        "print(arbol_v2.hijo_izq.dato)\r\n",
        "#imprimir la raiz\r\n",
        "print(arbol_v2.hijo_der.dato)"
      ],
      "execution_count": 6,
      "outputs": [
        {
          "output_type": "stream",
          "text": [
            "R\n",
            "C\n",
            "H\n"
          ],
          "name": "stdout"
        }
      ]
    },
    {
      "cell_type": "code",
      "metadata": {
        "colab": {
          "base_uri": "https://localhost:8080/"
        },
        "id": "gzOIiMYKTXXg",
        "outputId": "9d88f0a5-3763-41d5-fe28-dcef4fca2105"
      },
      "source": [
        "#ejercicio 2\r\n",
        "arbol2 = NodoArbol(\"4\", NodoArbol(\"3\", NodoArbol(\"2\", NodoArbol(\"2\"))), NodoArbol(\"5\"))\r\n",
        "#imprimir la raiz\r\n",
        "print(arbol2.dato)\r\n",
        "#imprimir el hijo izq\r\n",
        "print(arbol2.hijo_izq.dato)\r\n",
        "#imprimir la raiz\r\n",
        "print(arbol2.hijo_der.dato)\r\n",
        "print(arbol2.hijo_izq.hijo_izq.dato)\r\n",
        "print(arbol2.hijo_izq.hijo_izq.hijo_izq.dato)\r\n",
        "\r\n",
        "aux = arbol2\r\n",
        "while aux.hijo_izq != None:\r\n",
        "  aux = aux.hijo_izq\r\n",
        "print(aux.dato)"
      ],
      "execution_count": 14,
      "outputs": [
        {
          "output_type": "stream",
          "text": [
            "4\n",
            "3\n",
            "5\n",
            "2\n",
            "2\n",
            "2\n"
          ],
          "name": "stdout"
        }
      ]
    },
    {
      "cell_type": "code",
      "metadata": {
        "id": "IGlHgvT5YzEx"
      },
      "source": [
        "class NodoArbolT:\r\n",
        "  def __init__( self, dato, hijo_izq=None, hijo_cen = None , hijo_der=None):\r\n",
        "    self.dato = dato\r\n",
        "    self.hijo_izq = hijo_izq\r\n",
        "    self.hijo_der = hijo_der\r\n",
        "    self.hijo_cen = hijo_cen\r\n",
        "\r\n"
      ],
      "execution_count": 16,
      "outputs": []
    },
    {
      "cell_type": "code",
      "metadata": {
        "colab": {
          "base_uri": "https://localhost:8080/"
        },
        "id": "G5YF1KRvY86M",
        "outputId": "438115a1-1207-4e96-e8eb-d5aec8a06dc6"
      },
      "source": [
        "arbol3 = NodoArbolT(\"R\",NodoArbolT(\"I\", None, NodoArbolT(\"X\")), NodoArbolT(\"C\", NodoArbolT(\"Y\")), NodoArbolT(\"D\", None, None, NodoArbolT(\"Z\") ))\r\n",
        "print(arbol3.dato)\r\n",
        "print(arbol3.hijo_izq.dato)\r\n",
        "print(arbol3.hijo_izq.hijo_cen.dato)\r\n",
        "print(arbol3.hijo_cen.dato)\r\n",
        "print(arbol3.hijo_cen.hijo_izq.dato)\r\n",
        "print(arbol3.hijo_der.dato)\r\n",
        "print(arbol3.hijo_der.hijo_der.dato)"
      ],
      "execution_count": 19,
      "outputs": [
        {
          "output_type": "stream",
          "text": [
            "R\n",
            "I\n",
            "X\n",
            "C\n",
            "Y\n",
            "D\n",
            "Z\n"
          ],
          "name": "stdout"
        }
      ]
    }
  ]
}