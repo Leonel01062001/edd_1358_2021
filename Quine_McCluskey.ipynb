{
  "nbformat": 4,
  "nbformat_minor": 0,
  "metadata": {
    "colab": {
      "name": "Quine McCluskey.ipynb",
      "provenance": [],
      "authorship_tag": "ABX9TyOT6MTZ6EBn69KlKnYDjzrJ",
      "include_colab_link": true
    },
    "kernelspec": {
      "name": "python3",
      "display_name": "Python 3"
    },
    "language_info": {
      "name": "python"
    }
  },
  "cells": [
    {
      "cell_type": "markdown",
      "metadata": {
        "id": "view-in-github",
        "colab_type": "text"
      },
      "source": [
        "<a href=\"https://colab.research.google.com/github/Leonel01062001/edd_1358_2021/blob/master/Quine_McCluskey.ipynb\" target=\"_parent\"><img src=\"https://colab.research.google.com/assets/colab-badge.svg\" alt=\"Open In Colab\"/></a>"
      ]
    },
    {
      "cell_type": "code",
      "metadata": {
        "colab": {
          "base_uri": "https://localhost:8080/"
        },
        "id": "PUnPV8iESn53",
        "outputId": "b7f43698-e876-4d58-85a0-953934ea7dd9"
      },
      "source": [
        "def combine(m, n):\n",
        "    a = len(m)\n",
        "    c = ''\n",
        "    count = 0\n",
        "    for i in range(a): \n",
        "        if(m[i] == n[i]):\n",
        "            c += m[i]\n",
        "        elif(m[i] != n[i]):\n",
        "            c += '-'\n",
        "            count += 1\n",
        "\n",
        "    if(count > 1): \n",
        "        return None\n",
        "    else:            \n",
        "        return c\n",
        "\n",
        "\n",
        "def find_prime_implicants(data):\n",
        "    newList = list(data)\n",
        "    size = len(newList)\n",
        "    IM = []\n",
        "    im = []\n",
        "    im2 = []\n",
        "    mark = [0]*size\n",
        "    m = 0\n",
        "    for i in range(size):\n",
        "        for j in range(i+1, size):\n",
        "            c = combine( str(newList[i]), str(newList[j]) )\n",
        "            if c != None:\n",
        "                im.append(str(c))\n",
        "                mark[i] = 1\n",
        "                mark[j] = 1\n",
        "            else:\n",
        "                continue\n",
        "\n",
        "    mark2 = [0]*len(im)\n",
        "    for p in range(len(im)):\n",
        "        for n in range(p+1, len(im)):\n",
        "            if( p != n and mark2[n] == 0):\n",
        "                if( im[p] == im[n]):\n",
        "                    mark2[n] = 1\n",
        "\n",
        "\n",
        "    for r in range(len(im)):\n",
        "        if(mark2[r] == 0):\n",
        "            im2.append(im[r])\n",
        "\n",
        "    for q in range(size):\n",
        "        if( mark[q] == 0 ):\n",
        "            IM.append( str(newList[q]) )\n",
        "            m = m+1\n",
        "\n",
        "    if(m == size or size == 1):\n",
        "        return IM\n",
        "    else:\n",
        "        return IM + find_prime_implicants(im2)\n",
        "\n",
        "\n",
        "def minterms ():\n",
        "    numentradas = input(\"Introduzca el número de variables\")\n",
        "    print(\"\\n\")\n",
        "    minit = input(\"Introduzca miniterminos válidos\")\n",
        "    minit = minit.replace(' ','')\n",
        "    termv = minit.split(\",\")\n",
        "    print(termv)\n",
        "    print(\"\\n\")\n",
        "    for e in range(len(termv)):\n",
        "      termv[e] = f\"{int((bin(int(termv[e]))[2:])):0{numentradas}d}\"\n",
        "    print(termv)\n",
        "    print(\"\\n\")\n",
        "    return termv\n",
        "\n",
        "\n",
        "print ('Resultado: ', find_prime_implicants(minterms()))"
      ],
      "execution_count": 20,
      "outputs": [
        {
          "output_type": "stream",
          "name": "stdout",
          "text": [
            "Introduzca el número de variables10\n",
            "\n",
            "\n",
            "Introduzca miniterminos válidos0,1,2,3,4,5,6,7,8\n",
            "['0', '1', '2', '3', '4', '5', '6', '7', '8']\n",
            "\n",
            "\n",
            "['0000000000', '0000000001', '0000000010', '0000000011', '0000000100', '0000000101', '0000000110', '0000000111', '0000001000']\n",
            "\n",
            "\n",
            "Resultado:  ['000000-000', '0000000---']\n"
          ]
        }
      ]
    }
  ]
}