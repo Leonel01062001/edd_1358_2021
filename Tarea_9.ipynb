{
  "nbformat": 4,
  "nbformat_minor": 0,
  "metadata": {
    "colab": {
      "name": "Tarea 9.ipynb",
      "provenance": [],
      "authorship_tag": "ABX9TyOMXHduVJqSEoiTLP47CKl/",
      "include_colab_link": true
    },
    "kernelspec": {
      "name": "python3",
      "display_name": "Python 3"
    }
  },
  "cells": [
    {
      "cell_type": "markdown",
      "metadata": {
        "id": "view-in-github",
        "colab_type": "text"
      },
      "source": [
        "<a href=\"https://colab.research.google.com/github/Leonel01062001/edd_1358_2021/blob/master/Tarea_9.ipynb\" target=\"_parent\"><img src=\"https://colab.research.google.com/assets/colab-badge.svg\" alt=\"Open In Colab\"/></a>"
      ]
    },
    {
      "cell_type": "code",
      "metadata": {
        "id": "x-71zLTHsQOX"
      },
      "source": [
        "class Queue:\r\n",
        "  def __init__( self ):\r\n",
        "    self.__data = list()\r\n",
        "\r\n",
        "  def is_empty( self ):\r\n",
        "    return len(self.__data) == 0\r\n",
        "\r\n",
        "  def length( self ):\r\n",
        "    return len(self.__data)\r\n",
        "\r\n",
        "  def enqueue(self , item):\r\n",
        "    self.__data.append( item )\r\n",
        "\r\n",
        "  def dequeue(self):\r\n",
        "    if not self.is_empty():\r\n",
        "      return self.__data.pop(0)\r\n",
        "    else:\r\n",
        "      return None\r\n",
        "\r\n",
        "  def to_string(self):\r\n",
        "    cadena = \"\"\r\n",
        "    for elem in self.__data:\r\n",
        "      cadena = cadena + \" | \" + elem  \r\n",
        "    cadena = cadena + \" | \"\r\n",
        "    return cadena"
      ],
      "execution_count": 60,
      "outputs": []
    },
    {
      "cell_type": "code",
      "metadata": {
        "id": "i3huq3seudya"
      },
      "source": [
        "class BoundedPriorityQueue:\r\n",
        "  def __init__( self, niveles ):\r\n",
        "    self.__data = [  Queue() for x in range(niveles)]\r\n",
        "    self.__size = 0\r\n",
        "    self.__max = niveles\r\n",
        "\r\n",
        "  def is_empty( self ):\r\n",
        "    return self.__size == 0\r\n",
        "\r\n",
        "  def barcovacio( self ):\r\n",
        "    if self.is_empty():\r\n",
        "      print(\"El barco esta vacio\")\r\n",
        "\r\n",
        "\r\n",
        "  def length( self ):\r\n",
        "    return self.__size \r\n",
        "\r\n",
        "  def enqueue( self , prioridad , elem ):\r\n",
        "      if prioridad < len(self.__data) and prioridad >= 0:\r\n",
        "          self.__data[prioridad].enqueue(elem)\r\n",
        "          self.__size +=1\r\n",
        "      else:\r\n",
        "          print(\"Prioridad fuera de rango.\")\r\n",
        "\r\n",
        "  def dequeue( self ):\r\n",
        "      if not self.is_empty():\r\n",
        "          cont = 0\r\n",
        "          nivel = 0\r\n",
        "          while self.__data[nivel].is_empty():\r\n",
        "             nivel += 1\r\n",
        "          self.__data[nivel].dequeue()\r\n",
        "\r\n",
        "      if not self.is_empty():\r\n",
        "          nivel = 0\r\n",
        "          print(\"\")\r\n",
        "          for x in range(self.__max):\r\n",
        "           if self.__data[nivel].is_empty():\r\n",
        "             print(f\"El nivel {nivel } ya ha sido evacuado\", end= \"\\n\")\r\n",
        "             nivel += 1\r\n",
        "             if nivel == self.__max:\r\n",
        "               print(\"Se han evacuado todos las personas dentro del barco\")\r\n",
        "               return True\r\n",
        "    \r\n",
        "\r\n",
        "  def to_string( self ):\r\n",
        "    for nivel in range( len(self.__data) ):\r\n",
        "      print(f\"Nivel { nivel} --> {self.__data[nivel].to_string() } \")"
      ],
      "execution_count": 142,
      "outputs": []
    },
    {
      "cell_type": "code",
      "metadata": {
        "colab": {
          "base_uri": "https://localhost:8080/"
        },
        "id": "Cgpox9vLulFB",
        "outputId": "c6463dbd-242b-4888-be07-7dfaa534e023"
      },
      "source": [
        "barco = BoundedPriorityQueue( 6 )\r\n",
        "barco.enqueue( 1 , \"Niñas\")\r\n",
        "barco.enqueue( 2 , \"Niños\")\r\n",
        "barco.enqueue( 2 , \"3ra Edad\")\r\n",
        "barco.enqueue( 3 , \"Mujeres\")\r\n",
        "barco.enqueue( 3 , \"Hombres\")\r\n",
        "barco.enqueue( 4 , \"Maestre\")\r\n",
        "barco.enqueue( 4 , \"Mecanico\")\r\n",
        "barco.enqueue( 4 , \"Vigia\")\r\n",
        "barco.enqueue( 4 , \"Timones\")\r\n",
        "barco.enqueue( 5 , \"Capitan\")\r\n",
        "barco.to_string()\r\n",
        "barco.dequeue()\r\n",
        "barco.dequeue()\r\n",
        "barco.dequeue()\r\n",
        "barco.dequeue()\r\n",
        "barco.dequeue()\r\n",
        "barco.dequeue()\r\n",
        "barco.dequeue()\r\n",
        "barco.dequeue()\r\n",
        "barco.dequeue()\r\n",
        "print(\"------------------------------------------------------\")\r\n",
        "print(\"Solo modifique el método dequeue de el programa hecho en clase para que cada vez que se usara verificara cuales niveles estaban vacios\")\r\n",
        "print(\"Aqui muestro cuando solo queda una persona en el barco, y posteriormente lo quitaré\")\r\n",
        "barco.to_string()\r\n",
        "\r\n",
        "barco.dequeue()\r\n",
        "print(\"------------------------------------------------------\")\r\n",
        "print(\"Aquí ya he evacuado a todos, se revisaron todos los niveles y al ver que estaban vacios se mando el mensaje de que todos han salido.\")\r\n",
        "\r\n"
      ],
      "execution_count": 145,
      "outputs": [
        {
          "output_type": "stream",
          "text": [
            "Nivel 0 -->  |  \n",
            "Nivel 1 -->  | Niñas |  \n",
            "Nivel 2 -->  | Niños | 3ra Edad |  \n",
            "Nivel 3 -->  | Mujeres | Hombres |  \n",
            "Nivel 4 -->  | Maestre | Mecanico | Vigia | Timones |  \n",
            "Nivel 5 -->  | Capitan |  \n",
            "\n",
            "El nivel 0 ya ha sido evacuado\n",
            "El nivel 1 ya ha sido evacuado\n",
            "\n",
            "El nivel 0 ya ha sido evacuado\n",
            "El nivel 1 ya ha sido evacuado\n",
            "\n",
            "El nivel 0 ya ha sido evacuado\n",
            "El nivel 1 ya ha sido evacuado\n",
            "El nivel 2 ya ha sido evacuado\n",
            "\n",
            "El nivel 0 ya ha sido evacuado\n",
            "El nivel 1 ya ha sido evacuado\n",
            "El nivel 2 ya ha sido evacuado\n",
            "\n",
            "El nivel 0 ya ha sido evacuado\n",
            "El nivel 1 ya ha sido evacuado\n",
            "El nivel 2 ya ha sido evacuado\n",
            "El nivel 3 ya ha sido evacuado\n",
            "\n",
            "El nivel 0 ya ha sido evacuado\n",
            "El nivel 1 ya ha sido evacuado\n",
            "El nivel 2 ya ha sido evacuado\n",
            "El nivel 3 ya ha sido evacuado\n",
            "\n",
            "El nivel 0 ya ha sido evacuado\n",
            "El nivel 1 ya ha sido evacuado\n",
            "El nivel 2 ya ha sido evacuado\n",
            "El nivel 3 ya ha sido evacuado\n",
            "\n",
            "El nivel 0 ya ha sido evacuado\n",
            "El nivel 1 ya ha sido evacuado\n",
            "El nivel 2 ya ha sido evacuado\n",
            "El nivel 3 ya ha sido evacuado\n",
            "\n",
            "El nivel 0 ya ha sido evacuado\n",
            "El nivel 1 ya ha sido evacuado\n",
            "El nivel 2 ya ha sido evacuado\n",
            "El nivel 3 ya ha sido evacuado\n",
            "El nivel 4 ya ha sido evacuado\n",
            "------------------------------------------------------\n",
            "Solo modifique el método dequeue de el programa hecho en clase para que cada vez que se usara verificara cuales niveles estaban vacios\n",
            "Aqui muestro cuando solo queda una persona en el barco, y posteriormente lo quitaré\n",
            "Nivel 0 -->  |  \n",
            "Nivel 1 -->  |  \n",
            "Nivel 2 -->  |  \n",
            "Nivel 3 -->  |  \n",
            "Nivel 4 -->  |  \n",
            "Nivel 5 -->  | Capitan |  \n",
            "\n",
            "El nivel 0 ya ha sido evacuado\n",
            "El nivel 1 ya ha sido evacuado\n",
            "El nivel 2 ya ha sido evacuado\n",
            "El nivel 3 ya ha sido evacuado\n",
            "El nivel 4 ya ha sido evacuado\n",
            "El nivel 5 ya ha sido evacuado\n",
            "Se han evacuado todos las personas dentro del barco\n",
            "------------------------------------------------------\n",
            "Aquí ya he evacuado a todos, se revisaron todos los niveles y al ver que estaban vacios se mando el mensaje de que todos han salido.\n"
          ],
          "name": "stdout"
        }
      ]
    },
    {
      "cell_type": "code",
      "metadata": {
        "id": "fkfdlDJXB6t9"
      },
      "source": [
        "\r\n",
        "\r\n"
      ],
      "execution_count": null,
      "outputs": []
    }
  ]
}