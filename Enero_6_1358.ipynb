{
  "nbformat": 4,
  "nbformat_minor": 0,
  "metadata": {
    "colab": {
      "name": "Enero_6_1358",
      "provenance": [],
      "authorship_tag": "ABX9TyOJKyLs0vR7tiVK/AKDs4Bf",
      "include_colab_link": true
    },
    "kernelspec": {
      "name": "python3",
      "display_name": "Python 3"
    }
  },
  "cells": [
    {
      "cell_type": "markdown",
      "metadata": {
        "id": "view-in-github",
        "colab_type": "text"
      },
      "source": [
        "<a href=\"https://colab.research.google.com/github/Leonel01062001/edd_1358_2021/blob/master/Enero_6_1358.ipynb\" target=\"_parent\"><img src=\"https://colab.research.google.com/assets/colab-badge.svg\" alt=\"Open In Colab\"/></a>"
      ]
    },
    {
      "cell_type": "code",
      "metadata": {
        "id": "MWji6X8JpQ7j"
      },
      "source": [
        "class Queue:\r\n",
        "  def __init__( self ):\r\n",
        "    self.__data = list()\r\n",
        "\r\n",
        "  def is_empty( self ):\r\n",
        "    return len(self.__data) == 0\r\n",
        "\r\n",
        "  def length( self ):\r\n",
        "    return len(self.__data)\r\n",
        "\r\n",
        "  def enqueue(self , item):\r\n",
        "    self.__data.append( item )\r\n",
        "\r\n",
        "  def dequeue(self):\r\n",
        "    if not self.is_empty():\r\n",
        "      return self.__data.pop(0)\r\n",
        "    else:\r\n",
        "      return None\r\n",
        "\r\n",
        "  def to_string( self ):\r\n",
        "    for elem in self.__data:\r\n",
        "      print(f\"| { elem } \", end=\"\")\r\n",
        "    print(\"|\")"
      ],
      "execution_count": 1,
      "outputs": []
    },
    {
      "cell_type": "code",
      "metadata": {
        "id": "o90O2S5Hpes2"
      },
      "source": [
        "class BoundedPriorityQueue:\r\n",
        "  def.__init__( self, niveles ):\r\n",
        "    self.__data = [  Queue() for x in range(niveles)]\r\n",
        "    self.__size = 0\r\n",
        "\r\n",
        "  def is_empty( self ):\r\n",
        "    return self.__size == 0\r\n",
        "\r\n",
        "  def length( self ):\r\n",
        "    return self.__size \r\n",
        "\r\n",
        "  def enqueue( self, prioridad, elem ):\r\n",
        "    self.__data[Prioridad].enqueue( elem )\r\n"
      ],
      "execution_count": null,
      "outputs": []
    }
  ]
}