{
  "nbformat": 4,
  "nbformat_minor": 0,
  "metadata": {
    "colab": {
      "name": "BailedeCaballito.ipynb",
      "provenance": [],
      "authorship_tag": "ABX9TyM549GM5Pqaz6YKkqeBfFMj",
      "include_colab_link": true
    },
    "kernelspec": {
      "name": "python3",
      "display_name": "Python 3"
    },
    "language_info": {
      "name": "python"
    }
  },
  "cells": [
    {
      "cell_type": "markdown",
      "metadata": {
        "id": "view-in-github",
        "colab_type": "text"
      },
      "source": [
        "<a href=\"https://colab.research.google.com/github/Leonel01062001/edd_1358_2021/blob/master/BailedeCaballito.ipynb\" target=\"_parent\"><img src=\"https://colab.research.google.com/assets/colab-badge.svg\" alt=\"Open In Colab\"/></a>"
      ]
    },
    {
      "cell_type": "code",
      "metadata": {
        "colab": {
          "base_uri": "https://localhost:8080/"
        },
        "id": "vxbWws6sWbmW",
        "outputId": "fa536399-ee9d-4989-e246-aa84aa077a03"
      },
      "source": [
        "n=8\n",
        "tablero = [[0 for i in range(n)]for i in range(n)] \n",
        "x=int(input(\"Ingresa el numero de la coordenada x: \"))\n",
        "y=int(input(\"Ingresa el numero de la coordenada y: \"))\n",
        "tablero[x][y]=1\n",
        "tablero"
      ],
      "execution_count": 1,
      "outputs": [
        {
          "name": "stdout",
          "output_type": "stream",
          "text": [
            "Ingresa el numero de la coordenada x: 1\n",
            "Ingresa el numero de la coordenada y: 1\n"
          ]
        },
        {
          "output_type": "execute_result",
          "data": {
            "text/plain": [
              "[[0, 0, 0, 0, 0, 0, 0, 0],\n",
              " [0, 1, 0, 0, 0, 0, 0, 0],\n",
              " [0, 0, 0, 0, 0, 0, 0, 0],\n",
              " [0, 0, 0, 0, 0, 0, 0, 0],\n",
              " [0, 0, 0, 0, 0, 0, 0, 0],\n",
              " [0, 0, 0, 0, 0, 0, 0, 0],\n",
              " [0, 0, 0, 0, 0, 0, 0, 0],\n",
              " [0, 0, 0, 0, 0, 0, 0, 0]]"
            ]
          },
          "metadata": {},
          "execution_count": 1
        }
      ]
    },
    {
      "cell_type": "code",
      "metadata": {
        "colab": {
          "base_uri": "https://localhost:8080/"
        },
        "id": "LIUr-cgvWgwC",
        "outputId": "85cfff6f-e727-4de2-aeb3-ab0fb6e6277e"
      },
      "source": [
        "def posibles_mov(x_actual, y_actual):\n",
        "    mov_x = [2, 1, 2, 1, -2, -1, -2, -1]\n",
        "    mov_y = [1, 2, -1, -2, 1, 2, -1, -2]\n",
        "    lista_mov = []\n",
        "    for i in range(8):\n",
        "        if x_actual+mov_x[i] >= 0 and x_actual+mov_x[i] <= n-1 and y_actual+mov_y[i] >= 0 and y_actual+mov_y[i] <= n-1 and tablero[x_actual+mov_x[i]][y_actual+mov_y[i]] == 0:\n",
        "            lista_mov.append([x_actual+mov_x[i], y_actual+mov_y[i]])\n",
        "    return lista_mov\n",
        "\n",
        "def resuelve_tour():\n",
        "    contador = 2\n",
        "    x_actual = x\n",
        "    y_actual = y\n",
        "    for i in range((n*n)-1):\n",
        "        mov_pos = posibles_mov(x_actual, y_actual)\n",
        "        cam_min = mov_pos[0]\n",
        "        for j in mov_pos:\n",
        "            if len(posibles_mov(j[0], j[1])) <= len(posibles_mov(cam_min[0], cam_min[1])):\n",
        "                cam_min = j\n",
        "        x_actual = cam_min[0]\n",
        "        y_actual = cam_min[1]\n",
        "        tablero[x_actual][y_actual] = contador\n",
        "        contador += 1\n",
        "        \n",
        "def marcar():\n",
        "    for i in range(n):\n",
        "        for j in range(n):\n",
        "            print(tablero[i][j], end=\"| \")\n",
        "        print(\"\\n\")\n",
        "\n",
        "resuelve_tour()    \n",
        "marcar()"
      ],
      "execution_count": 2,
      "outputs": [
        {
          "output_type": "stream",
          "name": "stdout",
          "text": [
            "19| 16| 33| 2| 21| 6| 39| 4| \n",
            "\n",
            "32| 1| 20| 17| 38| 3| 22| 7| \n",
            "\n",
            "15| 18| 37| 34| 23| 46| 5| 40| \n",
            "\n",
            "36| 31| 24| 45| 60| 41| 8| 47| \n",
            "\n",
            "25| 14| 35| 56| 51| 44| 61| 42| \n",
            "\n",
            "30| 53| 28| 59| 62| 57| 48| 9| \n",
            "\n",
            "13| 26| 55| 52| 11| 50| 43| 64| \n",
            "\n",
            "54| 29| 12| 27| 58| 63| 10| 49| \n",
            "\n"
          ]
        }
      ]
    }
  ]
}