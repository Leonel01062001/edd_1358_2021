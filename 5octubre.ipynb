{
  "nbformat": 4,
  "nbformat_minor": 0,
  "metadata": {
    "colab": {
      "name": "5octubre.ipynb",
      "provenance": [],
      "authorship_tag": "ABX9TyO7deAF1a89RNgx1VH/Yzqq",
      "include_colab_link": true
    },
    "kernelspec": {
      "name": "python3",
      "display_name": "Python 3"
    }
  },
  "cells": [
    {
      "cell_type": "markdown",
      "metadata": {
        "id": "view-in-github",
        "colab_type": "text"
      },
      "source": [
        "<a href=\"https://colab.research.google.com/github/Leonel01062001/edd_1358_2021/blob/master/5octubre.ipynb\" target=\"_parent\"><img src=\"https://colab.research.google.com/assets/colab-badge.svg\" alt=\"Open In Colab\"/></a>"
      ]
    },
    {
      "cell_type": "code",
      "metadata": {
        "id": "MOKfPr14mADr",
        "outputId": "c550ed3c-b598-4f44-955a-9cf2b5f10206",
        "colab": {
          "base_uri": "https://localhost:8080/",
          "height": 90
        }
      },
      "source": [
        "#Declaracion de variables\n",
        "precio = 12.5\n",
        "cantidad = 2\n",
        "existencias = True\n",
        "\n",
        "#Texto/Pohblema a imprimir: Precio de los Cheetos es de $12.5 y quiero 2 ¿hay?: True\n",
        "print(\"El precio de los Cheetos es de: $\",precio, \" y quiero \", cantidad, \" ¿hay?\", existencias)\n",
        "\n",
        "print(\"Precio de los Cheetos es {0} y quiero {1}, ¿hay? {2}\".format(precio, cantidad, existencias))\n",
        "#Modificar el orden de las variables con el uso de asignaciones numericas\n",
        "print(\"Precio de los Cheetos es {1} y quiero {2}, ¿hay? {0}\".format(precio, cantidad, existencias))\n",
        "\n",
        "#Operador F\n",
        "print( f\"Precio de los Cheetos es {precio} y quiero {cantidad}, ¿hay? {existencias}\")"
      ],
      "execution_count": 5,
      "outputs": [
        {
          "output_type": "stream",
          "text": [
            "El precio de los Cheetos es de: $ 12.5  y quiero  2  ¿hay? True\n",
            "Precio de los Cheetos es 12.5 y quiero 2, ¿hay? True\n",
            "Precio de los Cheetos es 2 y quiero True, ¿hay? 12.5\n",
            "Precio de los Cheetos es 12.5 y quiero 2, ¿hay? True\n"
          ],
          "name": "stdout"
        }
      ]
    },
    {
      "cell_type": "markdown",
      "metadata": {
        "id": "cRPrZcQcmWQE"
      },
      "source": [
        "# Lisas\n",
        "- declaración\n",
        "- selectro\n",
        "- mutable\n",
        "- Declaracion\n",
        "- Selector []\n",
        "- No mutables (Diccionarios)\n",
        "- Conjuntos de datos pares de llaves: valor\n",
        "- Son mutabls\n",
        "- Son equivalentes a JSON (Grupos de elementos con la teoria de conjunto de operaciones de conjuntos)"
      ]
    },
    {
      "cell_type": "code",
      "metadata": {
        "id": "P-C2guPqnLD3",
        "outputId": "2819c01d-b90a-40d6-8d2b-8850422fbc54",
        "colab": {
          "base_uri": "https://localhost:8080/",
          "height": 558
        }
      },
      "source": [
        "#Listas\n",
        "materias = [\"CyP\", \"DAA\", \"EDD\", \"IS\", \"POO\"]\n",
        "\n",
        "#Impresión de datos y ejemplos de impresion modificada\n",
        "print(materias[2])\n",
        "print(materias[-1])\n",
        "print(materias[4])\n",
        "print(materias[::-1])\n",
        "\n",
        "#Crear una lista a partir de un string\n",
        "fecha = \"05/octubre/2020\"\n",
        "lista_fecha = fecha.split(\"/\")\n",
        "print(lista_fecha)\n",
        "\n",
        "#Crear un string a partir de una lista\n",
        "#Para las listas se usan los corchetes cuadrados y comas para separar valores\n",
        "#Los valores dentro de una lista deben de ser de tipo string\n",
        "lista_hora = [\"15\",\"22\",\"45\"] \n",
        "hora = \":\".join(lista_hora)\n",
        "print(hora)\n",
        "\n",
        "print(\"===============\")\n",
        "print(materias)\n",
        "print(lista_fecha)\n",
        "print(lista_hora)\n",
        "\n",
        "materias[0] = \"Computadoras y programación\"\n",
        "print(materias)\n",
        "\n",
        "#agregar un elemento al final de la lista\n",
        "materias.append(\"Calidad\")\n",
        "print(materias)\n",
        "\n",
        "#insert Agregar un valor a la lista en un lugar deseado\n",
        "materias.insert(2,\"Emprendimiento\")\n",
        "print(materias)\n",
        "\n",
        "#pop Sacar un valor de la lista\n",
        "materia= materias.pop(2)\n",
        "print(materia)\n",
        "print(materias)\n",
        "materia = materias\n",
        "\n",
        "#Clear limpiar lista\n",
        "materias.clear()\n",
        "print(materias)\n",
        "\n",
        "#Slicing [::]\n",
        "print(\"Slicing\")\n",
        "numeros = (0,1,2,3,4,5,6,7,8,9,10)\n",
        "print(numeros[4:10])\n",
        "\n",
        "#Sustituimos un numero con slicind\n",
        "numeros[4:9:1] = [-2,-3]\n",
        "print(numeros)"
      ],
      "execution_count": null,
      "outputs": [
        {
          "output_type": "stream",
          "text": [
            "EDD\n",
            "POO\n",
            "POO\n",
            "['POO', 'IS', 'EDD', 'DAA', 'CyP']\n",
            "['05', 'octubre', '2020']\n",
            "15:22:45\n",
            "===============\n",
            "['CyP', 'DAA', 'EDD', 'IS', 'POO']\n",
            "['05', 'octubre', '2020']\n",
            "['15', '22', '45']\n",
            "['Computadoras y programación', 'DAA', 'EDD', 'IS', 'POO']\n",
            "['Computadoras y programación', 'DAA', 'EDD', 'IS', 'POO', 'Calidad']\n",
            "['Computadoras y programación', 'DAA', 'Emprendimiento', 'EDD', 'IS', 'POO', 'Calidad']\n",
            "Emprendimiento\n",
            "['Computadoras y programación', 'DAA', 'EDD', 'IS', 'POO', 'Calidad']\n",
            "[]\n",
            "Slicing\n",
            "(4, 5, 6, 7, 8, 9)\n"
          ],
          "name": "stdout"
        },
        {
          "output_type": "error",
          "ename": "TypeError",
          "evalue": "ignored",
          "traceback": [
            "\u001b[0;31m---------------------------------------------------------------------------\u001b[0m",
            "\u001b[0;31mTypeError\u001b[0m                                 Traceback (most recent call last)",
            "\u001b[0;32m<ipython-input-2-dbef7db4d216>\u001b[0m in \u001b[0;36m<module>\u001b[0;34m()\u001b[0m\n\u001b[1;32m     52\u001b[0m \u001b[0;34m\u001b[0m\u001b[0m\n\u001b[1;32m     53\u001b[0m \u001b[0;31m#Sustituir un numero con slicind\u001b[0m\u001b[0;34m\u001b[0m\u001b[0;34m\u001b[0m\u001b[0;34m\u001b[0m\u001b[0m\n\u001b[0;32m---> 54\u001b[0;31m \u001b[0mnumeros\u001b[0m\u001b[0;34m[\u001b[0m\u001b[0;36m4\u001b[0m\u001b[0;34m:\u001b[0m\u001b[0;36m9\u001b[0m\u001b[0;34m:\u001b[0m\u001b[0;36m1\u001b[0m\u001b[0;34m]\u001b[0m \u001b[0;34m=\u001b[0m \u001b[0;34m[\u001b[0m\u001b[0;34m-\u001b[0m\u001b[0;36m2\u001b[0m\u001b[0;34m,\u001b[0m\u001b[0;34m-\u001b[0m\u001b[0;36m3\u001b[0m\u001b[0;34m]\u001b[0m\u001b[0;34m\u001b[0m\u001b[0;34m\u001b[0m\u001b[0m\n\u001b[0m\u001b[1;32m     55\u001b[0m \u001b[0mprint\u001b[0m\u001b[0;34m(\u001b[0m\u001b[0mnumeros\u001b[0m\u001b[0;34m)\u001b[0m\u001b[0;34m\u001b[0m\u001b[0;34m\u001b[0m\u001b[0m\n",
            "\u001b[0;31mTypeError\u001b[0m: 'tuple' object does not support item assignment"
          ]
        }
      ]
    },
    {
      "cell_type": "code",
      "metadata": {
        "id": "n3diXvESnPyB",
        "outputId": "b0e65a38-d7d4-40f3-ffd3-35a3f8abd332",
        "colab": {
          "base_uri": "https://localhost:8080/",
          "height": 135
        }
      },
      "source": [
        "autos = [\"Mazda\",\"Honda\",\"Akura\",\"Ford\",\"Tesla\"]\n",
        "telefonos = [\"iPhone\",\"Huawei Mate 30\", \"Huawei S10\", \"Alcatel t1000\"]\n",
        "sistemas_operativos = [\"Windows\", \"Linux\", \"Android\", \"IOS\", \"MacOs\"]\n",
        "\n",
        "lista_2d = [autos,telefonos,sistemas_operativos]\n",
        "print(lista_2d)\n",
        "print(lista-2d[1][1])"
      ],
      "execution_count": 6,
      "outputs": [
        {
          "output_type": "error",
          "ename": "SyntaxError",
          "evalue": "ignored",
          "traceback": [
            "\u001b[0;36m  File \u001b[0;32m\"<ipython-input-6-6728f237eed7>\"\u001b[0;36m, line \u001b[0;32m7\u001b[0m\n\u001b[0;31m    print(lista-2d[1][1])\u001b[0m\n\u001b[0m                 ^\u001b[0m\n\u001b[0;31mSyntaxError\u001b[0m\u001b[0;31m:\u001b[0m invalid syntax\n"
          ]
        }
      ]
    }
  ]
}