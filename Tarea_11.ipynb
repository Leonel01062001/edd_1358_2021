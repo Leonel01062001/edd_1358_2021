{
  "nbformat": 4,
  "nbformat_minor": 0,
  "metadata": {
    "colab": {
      "name": "Tarea_11.ipynb",
      "provenance": [],
      "authorship_tag": "ABX9TyP1JEIyM1seexUbphlIBGYq",
      "include_colab_link": true
    },
    "kernelspec": {
      "name": "python3",
      "display_name": "Python 3"
    }
  },
  "cells": [
    {
      "cell_type": "markdown",
      "metadata": {
        "id": "view-in-github",
        "colab_type": "text"
      },
      "source": [
        "<a href=\"https://colab.research.google.com/github/Leonel01062001/edd_1358_2021/blob/master/Tarea_11.ipynb\" target=\"_parent\"><img src=\"https://colab.research.google.com/assets/colab-badge.svg\" alt=\"Open In Colab\"/></a>"
      ]
    },
    {
      "cell_type": "code",
      "metadata": {
        "id": "Txa5PqFXKSuB"
      },
      "source": [
        "class NodoArbol:\r\n",
        "  def __init__( self, value, left=None, right=None):\r\n",
        "    self.data = value\r\n",
        "    self.left = left\r\n",
        "    self.right = right\r\n"
      ],
      "execution_count": null,
      "outputs": []
    },
    {
      "cell_type": "code",
      "metadata": {
        "colab": {
          "base_uri": "https://localhost:8080/"
        },
        "id": "5RR8t4isKZ74",
        "outputId": "375504b1-3e13-4214-dc06-83b171c5e2a0"
      },
      "source": [
        "\r\n",
        "arbol1 = NodoArbol(\"+\", NodoArbol(\"-\", NodoArbol(5) , NodoArbol(4) ) , NodoArbol(\"*\", NodoArbol(3) , NodoArbol(2) ) )\r\n",
        "arbol2 = NodoArbol(40, NodoArbol(30, NodoArbol(25) , NodoArbol(35) ) , NodoArbol(50, NodoArbol(45) , NodoArbol(60) ) )\r\n",
        "\r\n",
        "def prefijo( n ): \r\n",
        "  if n.data is not None:\r\n",
        "    print(f\"{n.data}\", end = \" \")\r\n",
        "    if n.left is not None:\r\n",
        "      prefijo( n.left)\r\n",
        "    if n.right is not None:\r\n",
        "      prefijo( n.right)\r\n",
        "\r\n",
        "print(\"Orden prefijo para el primer y segundo arbol\")\r\n",
        "prefijo(NodoArbol(\"+\", NodoArbol(\"-\", NodoArbol(5) , NodoArbol(4) ) , NodoArbol(\"*\", NodoArbol(3) , NodoArbol(2) ) ))\r\n",
        "print(\"\\n\")\r\n",
        "prefijo(NodoArbol(40, NodoArbol(30, NodoArbol(25) , NodoArbol(35) ) , NodoArbol(50, NodoArbol(45) , NodoArbol(60) ) ))\r\n",
        "print(\"\\n\")\r\n",
        "print(\"-----------------------------------------------\")\r\n",
        "\r\n",
        "def posfijo(n):\r\n",
        "  if n.data is not None:\r\n",
        "    if n.left is not None:\r\n",
        "      posfijo( n.left)\r\n",
        "    if n.right is not None:\r\n",
        "      posfijo( n.right)\r\n",
        "    print(f\"{n.data}\", end = \" \") \r\n",
        "\r\n",
        "print(\"Orden posfijo para el primer y segundo arbol\")\r\n",
        "posfijo(NodoArbol(\"+\", NodoArbol(\"-\", NodoArbol(5) , NodoArbol(4) ) , NodoArbol(\"*\", NodoArbol(3) , NodoArbol(2) ) ))\r\n",
        "\r\n",
        "print(\"\\n\")\r\n",
        "posfijo(NodoArbol(40, NodoArbol(30, NodoArbol(25) , NodoArbol(35) ) , NodoArbol(50, NodoArbol(45) , NodoArbol(60) ) ))\r\n",
        "print(\"\\n\")\r\n",
        "print(\"-----------------------------------------------\")\r\n",
        "\r\n",
        "def infija(n):\r\n",
        "  if n.data is not None:\r\n",
        "    if n.left is not None:\r\n",
        "      infija( n.left)\r\n",
        "    print(f\"{n.data}\", end = \" \") \r\n",
        "    if n.right is not None:\r\n",
        "      infija( n.right)\r\n",
        "\r\n",
        "print(\"Orden infija para el primer y segundo arbol\")\r\n",
        "infija(NodoArbol(\"+\", NodoArbol(\"-\", NodoArbol(5) , NodoArbol(4) ) , NodoArbol(\"*\", NodoArbol(3) , NodoArbol(2) ) ))\r\n",
        "\r\n",
        "print(\"\\n\")\r\n",
        "infija(NodoArbol(40, NodoArbol(30, NodoArbol(25) , NodoArbol(35) ) , NodoArbol(50, NodoArbol(45) , NodoArbol(60) ) ))\r\n",
        "print(\"\\n\")"
      ],
      "execution_count": 158,
      "outputs": [
        {
          "output_type": "stream",
          "text": [
            "Orden prefijo para el primer y segundo arbol\n",
            "+ - 5 4 * 3 2 \n",
            "\n",
            "40 30 25 35 50 45 60 \n",
            "\n",
            "-----------------------------------------------\n",
            "Orden posfijo para el primer y segundo arbol\n",
            "5 4 - 3 2 * + \n",
            "\n",
            "25 35 30 45 60 50 40 \n",
            "\n",
            "-----------------------------------------------\n",
            "Orden infija para el primer y segundo arbol\n",
            "5 - 4 + 3 * 2 \n",
            "\n",
            "25 30 35 40 45 50 60 \n",
            "\n"
          ],
          "name": "stdout"
        }
      ]
    },
    {
      "cell_type": "code",
      "metadata": {
        "colab": {
          "base_uri": "https://localhost:8080/"
        },
        "id": "Pk_soB91uSZu",
        "outputId": "c5c6d504-15e5-410f-f18e-e633418ea436"
      },
      "source": [
        "def posfijo(n):\r\n",
        "  if n.data is not None:\r\n",
        "    if n.left is not None:\r\n",
        "      posfijo( n.left)\r\n",
        "    if n.right is not None:\r\n",
        "      posfijo( n.right)\r\n",
        "    print(f\"{n.data}\", end = \" \") \r\n",
        "\r\n",
        "print(\"Orden posfijo para el primer y segundo arbol\")\r\n",
        "posfijo(NodoArbol(\"+\", NodoArbol(\"-\", NodoArbol(5) , NodoArbol(4) ) , NodoArbol(\"*\", NodoArbol(3) , NodoArbol(2) ) ))\r\n",
        "\r\n",
        "print(\"\\n\")\r\n",
        "posfijo(NodoArbol(40, NodoArbol(30, NodoArbol(25) , NodoArbol(35) ) , NodoArbol(50, NodoArbol(45) , NodoArbol(60) ) ))\r\n",
        "print(\"\\n\")\r\n"
      ],
      "execution_count": 152,
      "outputs": [
        {
          "output_type": "stream",
          "text": [
            "Orden posfijo para el primer y segundo arbol\n",
            "5 4 - 3 2 * + \n",
            "\n",
            "25 35 30 45 60 50 40 \n",
            "\n"
          ],
          "name": "stdout"
        }
      ]
    },
    {
      "cell_type": "code",
      "metadata": {
        "colab": {
          "base_uri": "https://localhost:8080/"
        },
        "id": "kt_CbxeBY6Zh",
        "outputId": "1276de42-5b81-4179-b02e-8aef3a96bed0"
      },
      "source": [
        "def inorden(n):\r\n",
        "  if n.data is not None:\r\n",
        "    if n.left is not None:\r\n",
        "      inorden( n.left)\r\n",
        "    print(f\"{n.data}\", end = \" \") \r\n",
        "    if n.right is not None:\r\n",
        "      inorden( n.right)\r\n",
        "\r\n",
        "print(\"Orden inorden para el primer y segundo arbol\")\r\n",
        "inorden(NodoArbol(\"+\", NodoArbol(\"-\", NodoArbol(5) , NodoArbol(4) ) , NodoArbol(\"*\", NodoArbol(3) , NodoArbol(2) ) ))\r\n",
        "\r\n",
        "print(\"\\n\")\r\n",
        "inorden(NodoArbol(40, NodoArbol(30, NodoArbol(25) , NodoArbol(35) ) , NodoArbol(50, NodoArbol(45) , NodoArbol(60) ) ))\r\n",
        "print(\"\\n\")"
      ],
      "execution_count": 155,
      "outputs": [
        {
          "output_type": "stream",
          "text": [
            "Orden inorden para el primer y segundo arbol\n",
            "5 - 4 + 3 * 2 \n",
            "\n",
            "25 30 35 40 45 50 60 \n",
            "\n"
          ],
          "name": "stdout"
        }
      ]
    }
  ]
}