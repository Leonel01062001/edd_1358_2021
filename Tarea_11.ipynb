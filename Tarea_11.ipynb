{
  "nbformat": 4,
  "nbformat_minor": 0,
  "metadata": {
    "colab": {
      "name": "Tarea_11.ipynb",
      "provenance": [],
      "authorship_tag": "ABX9TyN1c+B2EiONByyWzIA6xVdT",
      "include_colab_link": true
    },
    "kernelspec": {
      "name": "python3",
      "display_name": "Python 3"
    }
  },
  "cells": [
    {
      "cell_type": "markdown",
      "metadata": {
        "id": "view-in-github",
        "colab_type": "text"
      },
      "source": [
        "<a href=\"https://colab.research.google.com/github/Leonel01062001/edd_1358_2021/blob/master/Tarea_11.ipynb\" target=\"_parent\"><img src=\"https://colab.research.google.com/assets/colab-badge.svg\" alt=\"Open In Colab\"/></a>"
      ]
    },
    {
      "cell_type": "code",
      "metadata": {
        "id": "Txa5PqFXKSuB"
      },
      "source": [
        "class NodoArbol:\r\n",
        "  def __init__( self, value, left=None, right=None):\r\n",
        "    self.data = value\r\n",
        "    self.left = left\r\n",
        "    self.right = right\r\n"
      ],
      "execution_count": null,
      "outputs": []
    },
    {
      "cell_type": "code",
      "metadata": {
        "colab": {
          "base_uri": "https://localhost:8080/"
        },
        "id": "5RR8t4isKZ74",
        "outputId": "b3453f15-e304-4aa8-9706-ec5ae90e205c"
      },
      "source": [
        "\r\n",
        "arbol1 = NodoArbol(\"+\", NodoArbol(\"-\", NodoArbol(5) , NodoArbol(4) ) , NodoArbol(\"*\", NodoArbol(3) , NodoArbol(2) ) )\r\n",
        "arbol2 = NodoArbol(40, NodoArbol(30, NodoArbol(25) , NodoArbol(35) ) , NodoArbol(50, NodoArbol(45) , NodoArbol(60) ) )\r\n",
        "\r\n",
        "def prefijo( n ): \r\n",
        "  if n.data is not None:\r\n",
        "    print(f\"{n.data}\", end = \" \")\r\n",
        "    if n.left is not None:\r\n",
        "      prefijo( n.left)\r\n",
        "    if n.right is not None:\r\n",
        "      prefijo( n.right)\r\n",
        "\r\n",
        "print(\"Orden prefijo para el primer y segundo arbol\")\r\n",
        "prefijo(NodoArbol(\"+\", NodoArbol(\"-\", NodoArbol(5) , NodoArbol(4) ) , NodoArbol(\"*\", NodoArbol(3) , NodoArbol(2) ) ))\r\n",
        "print(\"\\n\")\r\n",
        "prefijo(NodoArbol(40, NodoArbol(30, NodoArbol(25) , NodoArbol(35) ) , NodoArbol(50, NodoArbol(45) , NodoArbol(60) ) ))\r\n",
        "print(\"\\n\")\r\n",
        "print(\"-----------------------------------------------\")\r\n",
        "\r\n",
        "def posfijo(n):\r\n",
        "  if n.data is not None:\r\n",
        "    if n.left is not None:\r\n",
        "      posfijo( n.left)\r\n",
        "    if n.right is not None:\r\n",
        "      posfijo( n.right)\r\n",
        "    print(f\"{n.data}\", end = \" \") \r\n",
        "\r\n",
        "print(\"Orden posfijo para el primer y segundo arbol\")\r\n",
        "posfijo(NodoArbol(\"+\", NodoArbol(\"-\", NodoArbol(5) , NodoArbol(4) ) , NodoArbol(\"*\", NodoArbol(3) , NodoArbol(2) ) ))\r\n",
        "\r\n",
        "print(\"\\n\")\r\n",
        "posfijo(NodoArbol(40, NodoArbol(30, NodoArbol(25) , NodoArbol(35) ) , NodoArbol(50, NodoArbol(45) , NodoArbol(60) ) ))\r\n",
        "print(\"\\n\")\r\n",
        "print(\"-----------------------------------------------\")\r\n",
        "\r\n",
        "def infija(n):\r\n",
        "  if n.data is not None:\r\n",
        "    if n.left is not None:\r\n",
        "      infija( n.left)\r\n",
        "    print(f\"{n.data}\", end = \" \") \r\n",
        "    if n.right is not None:\r\n",
        "      infija( n.right)\r\n",
        "\r\n",
        "print(\"Orden infija para el primer y segundo arbol\")\r\n",
        "infija(NodoArbol(\"+\", NodoArbol(\"-\", NodoArbol(5) , NodoArbol(4) ) , NodoArbol(\"*\", NodoArbol(3) , NodoArbol(2) ) ))\r\n",
        "\r\n",
        "print(\"\\n\")\r\n",
        "infija(NodoArbol(40, NodoArbol(30, NodoArbol(25) , NodoArbol(35) ) , NodoArbol(50, NodoArbol(45) , NodoArbol(60) ) ))\r\n",
        "print(\"\\n\")"
      ],
      "execution_count": 159,
      "outputs": [
        {
          "output_type": "stream",
          "text": [
            "Orden prefijo para el primer y segundo arbol\n",
            "+ - 5 4 * 3 2 \n",
            "\n",
            "40 30 25 35 50 45 60 \n",
            "\n",
            "-----------------------------------------------\n",
            "Orden posfijo para el primer y segundo arbol\n",
            "5 4 - 3 2 * + \n",
            "\n",
            "25 35 30 45 60 50 40 \n",
            "\n",
            "-----------------------------------------------\n",
            "Orden infija para el primer y segundo arbol\n",
            "5 - 4 + 3 * 2 \n",
            "\n",
            "25 30 35 40 45 50 60 \n",
            "\n"
          ],
          "name": "stdout"
        }
      ]
    }
  ]
}