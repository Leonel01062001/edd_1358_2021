{
  "nbformat": 4,
  "nbformat_minor": 0,
  "metadata": {
    "colab": {
      "name": "2octubre1358.ipynb",
      "provenance": [],
      "authorship_tag": "ABX9TyPAgRC44Kb0AqrqkBIYc3GN",
      "include_colab_link": true
    },
    "kernelspec": {
      "name": "python3",
      "display_name": "Python 3"
    }
  },
  "cells": [
    {
      "cell_type": "markdown",
      "metadata": {
        "id": "view-in-github",
        "colab_type": "text"
      },
      "source": [
        "<a href=\"https://colab.research.google.com/github/Leonel01062001/edd_1358_2021/blob/master/2octubre1358.ipynb\" target=\"_parent\"><img src=\"https://colab.research.google.com/assets/colab-badge.svg\" alt=\"Open In Colab\"/></a>"
      ]
    },
    {
      "cell_type": "markdown",
      "metadata": {
        "id": "K4_I45hv3SFM"
      },
      "source": [
        "# Tipos de texto\n",
        "- string           str\n",
        "- enteros          int\n",
        "- numero flotante  float\n",
        "- Lógico           bool\n",
        "- Numero Complejo  complex\n",
        "- Listas           list\n",
        "- Tuplas           tuple\n",
        "- Diccionarios     dict\n",
        "- Conjuntos        set"
      ]
    },
    {
      "cell_type": "code",
      "metadata": {
        "id": "5ccWtUfR3MfH",
        "outputId": "6afd2f25-654f-43e4-b10c-2165e352feed",
        "colab": {
          "base_uri": "https://localhost:8080/",
          "height": 182
        }
      },
      "source": [
        "# string puede usar ´´, \"\" ó (dos grupos de comillas dobes)\n",
        "universidad = \"    universidad    nacional   autonoma   de  mexico\"\n",
        "print( universidad)\n",
        "# cuando el string es una sola palabra se usa '', esto es solo una buena práctica\n",
        "carrera = 'ico'\n",
        "area = \"software\"\n",
        "division = 'division de las ciencias fisicomatematicas'\n",
        "print(carrera, area)\n",
        "print(division)\n",
        "# \"\"\"\" cuando el string incluye varios renglones\n",
        "\n",
        "frase = \"\"\"\n",
        "Si\n",
        "funciona, ¡¡no\n",
        "lo\n",
        "arregles!!\n",
        "\"\"\"\n",
        "print(frase)"
      ],
      "execution_count": 2,
      "outputs": [
        {
          "output_type": "stream",
          "text": [
            "    universidad    nacional   autonoma   de  mexico\n",
            "ico software\n",
            "division de las ciencias fisicomatematicas\n",
            "\n",
            "Si\n",
            "funciona, ¡¡no\n",
            "lo\n",
            "arregles!!\n",
            "\n"
          ],
          "name": "stdout"
        }
      ]
    },
    {
      "cell_type": "code",
      "metadata": {
        "id": "p4IM2Ptq5e0U",
        "outputId": "2b0a62fd-67e1-49f5-a166-f2284a0ddbfc",
        "colab": {
          "base_uri": "https://localhost:8080/",
          "height": 219
        }
      },
      "source": [
        "#convierte en mayúsculas:\n",
        "print(universidad.upper() )\n",
        "print(universidad)\n",
        "#pone en mayúsculas la primera letra de cada oalabra\n",
        "print(universidad.title())\n",
        "# eliminar espacios a la izquierda o derecha (y saltos de linea)\n",
        "universidad = universidad.strip()\n",
        "print(universidad)\n",
        "lista = universidad.split(\" \")\n",
        "print(lista)\n",
        "nueva = \"\"\n",
        "for l in lista:\n",
        "  if len(l) > 0:\n",
        "    nueva += l + \" \"\n",
        "print(nueva)\n",
        "\n",
        "numeros = \"1,2,34,56,100\"\n",
        "separados = numeros.split(\",\")\n",
        "print(separados)\n",
        "#split separa los numeros\n",
        "numeros_int = []\n",
        "for num in separados:\n",
        "  numeros_int.append( int(num))\n",
        "\n",
        "print(numeros_int)\n",
        "#suipcase cambia mayusculas y minusculas/ replace remplaza cadenas\n",
        "print(nueva)\n",
        "print(nueva.index(\"na\"))\n",
        "print(nueva.replace(\" \", \"-\"))\n"
      ],
      "execution_count": 19,
      "outputs": [
        {
          "output_type": "stream",
          "text": [
            "UNIVERSIDAD    NACIONAL   AUTONOMA   DE  MEXICO\n",
            "universidad    nacional   autonoma   de  mexico\n",
            "Universidad    Nacional   Autonoma   De  Mexico\n",
            "universidad    nacional   autonoma   de  mexico\n",
            "['universidad', '', '', '', 'nacional', '', '', 'autonoma', '', '', 'de', '', 'mexico']\n",
            "universidad nacional autonoma de mexico \n",
            "['1', '2', '34', '56', '100']\n",
            "[1, 2, 34, 56, 100]\n",
            "universidad nacional autonoma de mexico \n",
            "12\n",
            "universidad-nacional-autonoma-de-mexico-\n"
          ],
          "name": "stdout"
        }
      ]
    },
    {
      "cell_type": "markdown",
      "metadata": {
        "id": "0pBl2CYm_WFX"
      },
      "source": [
        "# Slicing\n",
        "sintaxis:\n",
        "[inicio : stop: incremento]"
      ]
    },
    {
      "cell_type": "code",
      "metadata": {
        "id": "j8l6vfQa_6I9"
      },
      "source": [
        "#selector de elements dentro de un string\n",
        "print(nueva[0])\n",
        "nueva = nueva.strip()\n",
        "print(nueva [len(nueva) -1])\n",
        "print(nueva[-2]) # estos indices negaivos se cuentan de derecha a izquierda\n",
        "\n",
        "#slicing\n",
        "print(nueva)\n",
        "print(nueva[12 : 20 : 1])\n",
        "print(nueva[-6 :  : 1]) #\n",
        "#mexico al revéz\n",
        "print(nueva[-1 : -7 : -1])\n",
        "\n",
        "#valores por defecto [ 0 : longitud de la lista : 1]\n",
        "print(nueva[ :  : ])"
      ],
      "execution_count": null,
      "outputs": []
    },
    {
      "cell_type": "markdown",
      "metadata": {
        "id": "MbOzt_oHD9Nc"
      },
      "source": [
        "# Bool\n",
        "acepta solo dos valores:\n",
        "True = bool(1)\n",
        "False = bool(0)"
      ]
    },
    {
      "cell_type": "code",
      "metadata": {
        "id": "Ts6GRz_gEMO4",
        "outputId": "aab142d0-e3d9-4a8c-d2f0-aa1c76c383d4",
        "colab": {
          "base_uri": "https://localhost:8080/",
          "height": 90
        }
      },
      "source": [
        "print(bool(0))\n",
        "print(bool(1))\n",
        "flag = 0\n",
        "print (bool(flag))\n",
        "print (True)"
      ],
      "execution_count": 34,
      "outputs": [
        {
          "output_type": "stream",
          "text": [
            "False\n",
            "True\n",
            "False\n",
            "True\n"
          ],
          "name": "stdout"
        }
      ]
    },
    {
      "cell_type": "markdown",
      "metadata": {
        "id": "8qzxHiGFFMU4"
      },
      "source": [
        "#comentarios\n",
        "\n",
        "para un comentario de una linea se usa #\n",
        "para un comentario se multiples lineas, equivalente a /* */ de java se utiliza \"\"\"  \"\"\" (triples comillas dobles)"
      ]
    },
    {
      "cell_type": "code",
      "metadata": {
        "id": "t028IYtfFS2g"
      },
      "source": [
        "#este es un comentario de una sola linea\n",
        "\"\"\"\n",
        "y este es un comentario de multiples lineas uwu\n",
        "asd\n",
        "dsa\n",
        "abc\n",
        "\"\"\""
      ],
      "execution_count": null,
      "outputs": []
    },
    {
      "cell_type": "markdown",
      "metadata": {
        "id": "0z1P1p5xFkaJ"
      },
      "source": [
        "# función print\n",
        "hay 4 formas de usar print\n",
        "1. Con comas\n",
        "1. Con signo +\n",
        "1. Con la función format() de la clase sring\n",
        "1. Con el operador f\"\""
      ]
    },
    {
      "cell_type": "code",
      "metadata": {
        "id": "IlTnDDVkGDKL",
        "outputId": "ab4c9780-1a00-4ce0-bbcc-57ea1864aaeb",
        "colab": {
          "base_uri": "https://localhost:8080/",
          "height": 90
        }
      },
      "source": [
        "# Con comas\n",
        "cantidad = 2\n",
        "precio_chetos = 8\n",
        "precio_fanta = 12\n",
        "\n",
        "print(cantidad, precio_chetos,precio_fanta)\n",
        "\n",
        "#con signo + solo opera con str\n",
        "print(\"hola \" + \"mundo\")\n",
        "print(cantidad + precio_chetos + precio_fanta)\n",
        "print(str(cantidad) + \" \" + str(precio_chetos) + \" \" + str(precio_fanta))"
      ],
      "execution_count": 38,
      "outputs": [
        {
          "output_type": "stream",
          "text": [
            "2 8 12\n",
            "hola mundo\n",
            "22\n",
            "2 8 12\n"
          ],
          "name": "stdout"
        }
      ]
    }
  ]
}