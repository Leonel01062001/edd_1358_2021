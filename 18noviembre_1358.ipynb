{
  "nbformat": 4,
  "nbformat_minor": 0,
  "metadata": {
    "colab": {
      "name": "18noviembre_1358.ipynb",
      "provenance": [],
      "authorship_tag": "ABX9TyOBlYhZx+vV8feCUYriTPpH",
      "include_colab_link": true
    },
    "kernelspec": {
      "name": "python3",
      "display_name": "Python 3"
    }
  },
  "cells": [
    {
      "cell_type": "markdown",
      "metadata": {
        "id": "view-in-github",
        "colab_type": "text"
      },
      "source": [
        "<a href=\"https://colab.research.google.com/github/Leonel01062001/edd_1358_2021/blob/master/18noviembre_1358.ipynb\" target=\"_parent\"><img src=\"https://colab.research.google.com/assets/colab-badge.svg\" alt=\"Open In Colab\"/></a>"
      ]
    },
    {
      "cell_type": "code",
      "metadata": {
        "colab": {
          "base_uri": "https://localhost:8080/"
        },
        "id": "DleXqR9wF8fH",
        "outputId": "de993ff3-4f37-44cc-9515-a05aef9de3c3"
      },
      "source": [
        "'''\n",
        "class Nodo:\n",
        "    def __init__( self , dato ):\n",
        "        self.dato = dato\n",
        "        self.siguiente = None\n",
        "\n",
        " #Ejemplo 1\n",
        "a = Nodo(10)\n",
        "print(a.dato)\n",
        "print(a.siguiente)    \n",
        "\n",
        "#Ejemplo 2\n",
        "a.siguiente = Nodo (20)\n",
        "\n",
        "#ejemplo 3\n",
        "a.siguiente.siguiente=Nodo(30)\n",
        "\n",
        "#Ejemplo 4\n",
        "a.siguiente.siguiente.siguiente = Nodo(40)\n",
        "\n",
        "#Ejemplo 5\n",
        "a.siguiente.siguiente.siguiente.siguiente = Nodo(50)\n",
        "\n",
        "\n",
        "\n",
        "#Recorrido transversal\n",
        "curr_node = a\n",
        "print(curr_node.dato , \"-->\" , end=\"\")\n",
        "while( curr_node.siguiente != None ):\n",
        "    curr_node = curr_node.siguiente\n",
        "    print(curr_node.dato, \"-->\" , end=\"\")\n",
        "print(\"\")\n",
        "\n",
        "#ejemplo 6\n",
        "a.siguiente.siguiente.siguiente.dato = 45\n",
        "\n",
        "#ejemplo 6\n",
        "a.siguiente.siguiente.dato = 35\n",
        "\n",
        "#ejemplo 7\n",
        "a.siguiente.siguiente = a.siguiente.siguiente.siguiente\n",
        "\n",
        "#ejemplo 8\n",
        "a.siguiente = a.siguiente.siguiente.siguiente.siguiente\n",
        "\n",
        "#ej 9\n",
        "\n",
        "\n",
        "#Recorrido transversal\n",
        "curr_node = a\n",
        "print(curr_node.dato , \"-->\" , end=\"\")\n",
        "while( curr_node.siguiente != None ):\n",
        "    curr_node = curr_node.siguiente\n",
        "    print(curr_node.dato, \"-->\" , end=\"\")\n",
        "print(\"\")\n",
        "'''"
      ],
      "execution_count": 1,
      "outputs": [
        {
          "output_type": "stream",
          "text": [
            "10\n",
            "None\n",
            "10 -->20 -->30 -->40 -->50 -->\n",
            "10 -->\n"
          ],
          "name": "stdout"
        }
      ]
    },
    {
      "cell_type": "code",
      "metadata": {
        "colab": {
          "base_uri": "https://localhost:8080/"
        },
        "id": "vpi1_fK_JOsm",
        "outputId": "f0fcba80-80d4-475a-dcf2-4486d97bb8b0"
      },
      "source": [
        "#Código del 18 de Noviembre\n",
        "class Nodo:\n",
        "    def __init__( self , dato, siguiente=None ):\n",
        "        self.dato = dato\n",
        "        self.siguiente = siguiente\n",
        "\n",
        "head = Nodo( 10, Nodo( 20 , Nodo( 30 , Nodo ( 40, Nodo( 50 )))) )\n",
        "\n",
        "\n",
        "\n",
        "#Recorrido transversal\n",
        "curr_node = head\n",
        "print(curr_node.dato , \"-->\" , end=\"\")\n",
        "while( curr_node.siguiente != None ):\n",
        "    curr_node = curr_node.siguiente\n",
        "    print(curr_node.dato, \"-->\" , end=\"\")\n",
        "print(\"\")\n",
        "\n",
        "#insrtar el nodo 35 después del 30\n",
        "anterior = head.siguiente.siguiente\n",
        "print(anterior.dato)\n",
        "nuevo = Nodo(35)\n",
        "nuevo.siguiente = anterior.siguiente\n",
        "print(nuevo.siguiente.dato)\n",
        "anterior.siguiente = nuevo \n",
        "\n",
        "#Recorrido transversal\n",
        "curr_node = head\n",
        "print(curr_node.dato , \"-->\" , end=\"\")\n",
        "while( curr_node.siguiente != None ):\n",
        "    curr_node = curr_node.siguiente\n",
        "    print(curr_node.dato, \"-->\" , end=\"\")\n",
        "print(\"\")\n",
        "\n",
        "#eliminar el nodo 20\n",
        "head.siguiente = head.siguiente.siguiente\n",
        "\n",
        "#Recorrido transversal\n",
        "curr_node = head\n",
        "print(curr_node.dato , \"-->\" , end=\"\")\n",
        "while( curr_node.siguiente != None ):\n",
        "    curr_node = curr_node.siguiente\n",
        "    print(curr_node.dato, \"-->\" , end=\"\")\n",
        "print(\"\")"
      ],
      "execution_count": 11,
      "outputs": [
        {
          "output_type": "stream",
          "text": [
            "10 -->20 -->30 -->40 -->50 -->\n",
            "30\n",
            "40\n",
            "10 -->20 -->30 -->35 -->40 -->50 -->\n",
            "10 -->30 -->35 -->40 -->50 -->\n"
          ],
          "name": "stdout"
        }
      ]
    },
    {
      "cell_type": "code",
      "metadata": {
        "id": "WXYwtHE6Vcos"
      },
      "source": [
        "class Nodo:\n",
        "    def __init__( self , dato, siguiente=None ):\n",
        "        self.dato = dato\n",
        "        self.siguiente = siguiente\n",
        "\n",
        "class LinkedList:\n",
        "  def __init__ ( self ):\n",
        "    self.__head = None\n",
        "\n",
        "  def is_empty( self ):\n",
        "    return self.__head == None\n",
        "\n",
        "  "
      ],
      "execution_count": null,
      "outputs": []
    }
  ]
}