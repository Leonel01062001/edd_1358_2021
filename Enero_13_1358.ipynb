{
  "nbformat": 4,
  "nbformat_minor": 0,
  "metadata": {
    "colab": {
      "name": "Enero_13_1358.ipynb",
      "provenance": [],
      "authorship_tag": "ABX9TyNF3bu9bfmPCjaHN3pUJDoh",
      "include_colab_link": true
    },
    "kernelspec": {
      "name": "python3",
      "display_name": "Python 3"
    }
  },
  "cells": [
    {
      "cell_type": "markdown",
      "metadata": {
        "id": "view-in-github",
        "colab_type": "text"
      },
      "source": [
        "<a href=\"https://colab.research.google.com/github/Leonel01062001/edd_1358_2021/blob/master/Enero_13_1358.ipynb\" target=\"_parent\"><img src=\"https://colab.research.google.com/assets/colab-badge.svg\" alt=\"Open In Colab\"/></a>"
      ]
    },
    {
      "cell_type": "code",
      "metadata": {
        "colab": {
          "base_uri": "https://localhost:8080/"
        },
        "id": "hgNwFlwmkK6P",
        "outputId": "3d7652d0-5325-4e91-edf2-82322500287a"
      },
      "source": [
        "def factorial( n ):\r\n",
        "  if n==0:\r\n",
        "    return 1\r\n",
        "  else:\r\n",
        "    return factorial (n-1)*n\r\n",
        "\r\n",
        "#print(factorial(4))\r\n",
        "\r\n",
        "for num in range(21):\r\n",
        "  print(factorial(num))\r\n"
      ],
      "execution_count": 3,
      "outputs": [
        {
          "output_type": "stream",
          "text": [
            "1\n",
            "1\n",
            "2\n",
            "6\n",
            "24\n",
            "120\n",
            "720\n",
            "5040\n",
            "40320\n",
            "362880\n",
            "3628800\n",
            "39916800\n",
            "479001600\n",
            "6227020800\n",
            "87178291200\n",
            "1307674368000\n",
            "20922789888000\n",
            "355687428096000\n",
            "6402373705728000\n",
            "121645100408832000\n",
            "2432902008176640000\n"
          ],
          "name": "stdout"
        }
      ]
    },
    {
      "cell_type": "code",
      "metadata": {
        "colab": {
          "base_uri": "https://localhost:8080/"
        },
        "id": "mtXBDHMsm1ob",
        "outputId": "7bb928e8-be20-42d5-c1a4-253d906d983d"
      },
      "source": [
        "def printRev( n ):\r\n",
        "  if n>0:\r\n",
        "    #print(n)\r\n",
        "    printRev(n-1)\r\n",
        "    print(n)\r\n",
        "\r\n",
        "printRev(3)"
      ],
      "execution_count": 5,
      "outputs": [
        {
          "output_type": "stream",
          "text": [
            "1\n",
            "2\n",
            "3\n"
          ],
          "name": "stdout"
        }
      ]
    },
    {
      "cell_type": "code",
      "metadata": {
        "colab": {
          "base_uri": "https://localhost:8080/"
        },
        "id": "go_X5O0yqs9w",
        "outputId": "4647a392-a930-4081-cd43-8f07c097fe3b"
      },
      "source": [
        "def fibonacci(n):\r\n",
        "  if n==0:\r\n",
        "    return 0\r\n",
        "  else:\r\n",
        "    if n == 1:\r\n",
        "      return 1\r\n",
        "    else:\r\n",
        "      if n>1:\r\n",
        "        return fibonacci(n-1) + fibonacci(n-2)\r\n",
        "      else:\r\n",
        "        print(\"numero invalido\")\r\n",
        "\r\n",
        "fibonacci(20)"
      ],
      "execution_count": 14,
      "outputs": [
        {
          "output_type": "execute_result",
          "data": {
            "text/plain": [
              "6765"
            ]
          },
          "metadata": {
            "tags": []
          },
          "execution_count": 14
        }
      ]
    }
  ]
}