{
  "nbformat": 4,
  "nbformat_minor": 0,
  "metadata": {
    "colab": {
      "name": "09_Noviembre_1258.ipynb",
      "provenance": [],
      "authorship_tag": "ABX9TyOe4gu6ikGPFWclU9n2KqW2",
      "include_colab_link": true
    },
    "kernelspec": {
      "name": "python3",
      "display_name": "Python 3"
    }
  },
  "cells": [
    {
      "cell_type": "markdown",
      "metadata": {
        "id": "view-in-github",
        "colab_type": "text"
      },
      "source": [
        "<a href=\"https://colab.research.google.com/github/Leonel01062001/edd_1358_2021/blob/master/09_Noviembre_1258.ipynb\" target=\"_parent\"><img src=\"https://colab.research.google.com/assets/colab-badge.svg\" alt=\"Open In Colab\"/></a>"
      ]
    },
    {
      "cell_type": "code",
      "metadata": {
        "id": "LkxRyNlz4x2p",
        "outputId": "ec058706-6a2a-4840-a6f6-b469d5b040ca",
        "colab": {
          "base_uri": "https://localhost:8080/"
        }
      },
      "source": [
        "class Nodo:\n",
        "  def __init__ (self, dato):\n",
        "    self.__dato = dato\n",
        "    self.__siguiente = None\n",
        "\n",
        "  def get_dato(self):\n",
        "    return self.__dato\n",
        "\n",
        "  def set_dato(self, d):\n",
        "    self.__dato = d\n",
        "\n",
        "  def get_siguiente (self):\n",
        "    return self.__siguiente\n",
        "\n",
        "  def set_siguiente(self, d):\n",
        "    self.__siguiente = d\n",
        "\n",
        "  def to_String(self):\n",
        "    return \" | \" + str(self.__dato) + \" | \" + str(self.__siguiente) + \" | -->\"\n",
        "\n",
        "  def show( self ):\n",
        "        curr_node = self # Head\n",
        "        print(\" Inicio de la estructura ligada:\")\n",
        "        print(\"|\" + str(curr_node.get_dato()) + \"| -->\" , end =\"\" )\n",
        "        while( curr_node.get_siguiente() != None ):\n",
        "            curr_node = curr_node.get_siguiente()\n",
        "            print(\"|\" + str(curr_node.get_dato() ) + \"| -->\" , end =\"\" )\n",
        "        print(\"\\nFin\")\n",
        "# Ejemplo 1\n",
        "a = Nodo( 10 )\n",
        "a.show()\n",
        "\n",
        "\n",
        "# ejemplo 2\n",
        "\n",
        "a.set_siguiente( Nodo(20) )\n",
        "a.show()\n",
        " #ejemplo\n",
        "a = Nodo( 10 )\n",
        "print(a.to_String())\n",
        "\n",
        "#ejemplo2\n",
        "a.set_siguiente(20)\n",
        "print(a.to_String())\n",
        "\n",
        "#ejemplo 3\n"
      ],
      "execution_count": 6,
      "outputs": [
        {
          "output_type": "stream",
          "text": [
            " Inicio de la estructura ligada:\n",
            "|10| -->\n",
            "Fin\n",
            " Inicio de la estructura ligada:\n",
            "|10| -->|20| -->\n",
            "Fin\n",
            " | 10 | None | -->\n",
            " | 10 | 20 | -->\n"
          ],
          "name": "stdout"
        }
      ]
    },
    {
      "cell_type": "code",
      "metadata": {
        "id": "_MOY-ds2uGFq"
      },
      "source": [
        ""
      ],
      "execution_count": null,
      "outputs": []
    }
  ]
}