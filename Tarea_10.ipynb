{
  "nbformat": 4,
  "nbformat_minor": 0,
  "metadata": {
    "colab": {
      "name": "Tarea 10.ipynb",
      "provenance": [],
      "authorship_tag": "ABX9TyOjlp6YbHlXc4EW6SSRt0lR",
      "include_colab_link": true
    },
    "kernelspec": {
      "name": "python3",
      "display_name": "Python 3"
    }
  },
  "cells": [
    {
      "cell_type": "markdown",
      "metadata": {
        "id": "view-in-github",
        "colab_type": "text"
      },
      "source": [
        "<a href=\"https://colab.research.google.com/github/Leonel01062001/edd_1358_2021/blob/master/Tarea_10.ipynb\" target=\"_parent\"><img src=\"https://colab.research.google.com/assets/colab-badge.svg\" alt=\"Open In Colab\"/></a>"
      ]
    },
    {
      "cell_type": "code",
      "metadata": {
        "colab": {
          "base_uri": "https://localhost:8080/"
        },
        "id": "4Y4w8EVYasqZ",
        "outputId": "5b9591fa-cc0a-4297-c519-a754071cbb3e"
      },
      "source": [
        "def SumaRecursividad( n ):\r\n",
        "  sum = 0\r\n",
        "  for x in n:\r\n",
        "    sum = sum+x\r\n",
        "  return sum\r\n",
        "print(SumaRecursividad([1,2,3,4,5,6,7,8,9,10]))"
      ],
      "execution_count": 11,
      "outputs": [
        {
          "output_type": "stream",
          "text": [
            "55\n"
          ],
          "name": "stdout"
        }
      ]
    },
    {
      "cell_type": "code",
      "metadata": {
        "colab": {
          "base_uri": "https://localhost:8080/"
        },
        "id": "-o6wkg9IlwwM",
        "outputId": "3dc630ec-bf0f-4a1a-85fe-b85706344b32"
      },
      "source": [
        "def ContadorRegresivo(n):\r\n",
        "  print(f\"La bomba explotará en: \")\r\n",
        "  while n >= 0:\r\n",
        "    print(n)\r\n",
        "    n = n-1\r\n",
        "    if n == 0:\r\n",
        "      print(\"Boooom\")\r\n",
        "      break\r\n",
        "\r\n",
        "ContadorRegresivo(10)\r\n"
      ],
      "execution_count": 4,
      "outputs": [
        {
          "output_type": "stream",
          "text": [
            "La bomba explotará en: \n",
            "10\n",
            "9\n",
            "8\n",
            "7\n",
            "6\n",
            "5\n",
            "4\n",
            "3\n",
            "2\n",
            "1\n",
            "Boooom\n"
          ],
          "name": "stdout"
        }
      ]
    },
    {
      "cell_type": "code",
      "metadata": {
        "id": "yRtBReQunvhZ"
      },
      "source": [
        "class Stack:\r\n",
        "  def __init__( self ):\r\n",
        "    self.__data = []\r\n",
        "    self.__size = 0\r\n",
        "\r\n",
        "  def pop( self ):\r\n",
        "    self.__size -=1\r\n",
        "    return self.__data.pop()\r\n",
        "\r\n",
        "  def get_size( self ):\r\n",
        "    return self.__size\r\n",
        "\r\n",
        "  def peek( self ):\r\n",
        "    return self.__data[-1]\r\n",
        "\r\n",
        "  def push (self, value ):\r\n",
        "    self.__size +=1\r\n",
        "    return self.__data.append( value )\r\n",
        "\r\n",
        "  def to_string( self ):\r\n",
        "    print(\"-------\")\r\n",
        "    for dato in self.__data[ : :-1]:\r\n",
        "      print( f\"| { dato } |\")\r\n",
        "      print(\"-------\")\r\n",
        "\r\n",
        "\r\n",
        "  "
      ],
      "execution_count": 44,
      "outputs": []
    },
    {
      "cell_type": "code",
      "metadata": {
        "colab": {
          "base_uri": "https://localhost:8080/"
        },
        "id": "FK365tJCqliA",
        "outputId": "ef42c1af-1dcf-42fc-9e43-26790eaffad1"
      },
      "source": [
        "Pila = Stack()\r\n",
        "Pila.push(10)\r\n",
        "Pila.push(20)\r\n",
        "Pila.push(30)\r\n",
        "Pila.push(40)\r\n",
        "Pila.push(50)\r\n",
        "Pila.push(60)\r\n",
        "Pila.push(70)\r\n",
        "Pila.to_string()\r\n",
        "\r\n",
        "def ValorMedioPila( n ):\r\n",
        "  Aux = Stack()\r\n",
        "  #Aux.push(n.pop())\r\n",
        "  pm = (n.get_size())/2\r\n",
        "  res = (n.get_size())%2\r\n",
        "  cont = 0\r\n",
        "  VB = 0\r\n",
        "  if res == 1:\r\n",
        "    pm = pm-0.5\r\n",
        "  while (pm != 0):\r\n",
        "    Aux.push(n.pop())\r\n",
        "    pm = pm -1\r\n",
        "    cont = cont+1\r\n",
        "  \r\n",
        "  VB = n.pop()\r\n",
        "  while (cont != 0):\r\n",
        "    n.push(Aux.pop())\r\n",
        "    cont = cont -1\r\n",
        "  \r\n",
        "  return VB\r\n",
        "\r\n",
        "\r\n",
        "print(\"El Valor de enmedio es: \")\r\n",
        "print(ValorMedioPila(Pila))\r\n",
        "print(\"-----------------------------------------------\")\r\n",
        "print(\"La nueva pila es: \")\r\n",
        "Pila.to_string()\r\n",
        "print(\"El Valor de enmedio es: \")\r\n",
        "print(ValorMedioPila(Pila))\r\n",
        "print(\"-----------------------------------------------\")"
      ],
      "execution_count": 110,
      "outputs": [
        {
          "output_type": "stream",
          "text": [
            "-------\n",
            "| 70 |\n",
            "-------\n",
            "| 60 |\n",
            "-------\n",
            "| 50 |\n",
            "-------\n",
            "| 40 |\n",
            "-------\n",
            "| 30 |\n",
            "-------\n",
            "| 20 |\n",
            "-------\n",
            "| 10 |\n",
            "-------\n",
            "El Valor de enmedio es: \n",
            "40\n",
            "-----------------------------------------------\n",
            "La nueva pila es: \n",
            "-------\n",
            "| 70 |\n",
            "-------\n",
            "| 60 |\n",
            "-------\n",
            "| 50 |\n",
            "-------\n",
            "| 30 |\n",
            "-------\n",
            "| 20 |\n",
            "-------\n",
            "| 10 |\n",
            "-------\n",
            "El Valor de enmedio es: \n",
            "30\n",
            "-----------------------------------------------\n"
          ],
          "name": "stdout"
        }
      ]
    }
  ]
}