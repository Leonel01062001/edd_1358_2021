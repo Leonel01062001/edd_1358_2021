{
  "nbformat": 4,
  "nbformat_minor": 0,
  "metadata": {
    "colab": {
      "name": "21octubre_1358.ipynb",
      "provenance": [],
      "authorship_tag": "ABX9TyMLrNl6KPJ3xX9chzbThFCQ",
      "include_colab_link": true
    },
    "kernelspec": {
      "name": "python3",
      "display_name": "Python 3"
    }
  },
  "cells": [
    {
      "cell_type": "markdown",
      "metadata": {
        "id": "view-in-github",
        "colab_type": "text"
      },
      "source": [
        "<a href=\"https://colab.research.google.com/github/Leonel01062001/edd_1358_2021/blob/master/21octubre_1358.ipynb\" target=\"_parent\"><img src=\"https://colab.research.google.com/assets/colab-badge.svg\" alt=\"Open In Colab\"/></a>"
      ]
    },
    {
      "cell_type": "code",
      "metadata": {
        "id": "mZRI24gFDdMI",
        "outputId": "a71d2126-77b6-458c-857a-58c010d7a965",
        "colab": {
          "base_uri": "https://localhost:8080/",
          "height": 90
        }
      },
      "source": [
        "#Encapsulamiento tradicional\n",
        "class SmartPhone:\n",
        "  def __init__( self, m ):\n",
        "    self.__marca = m\n",
        "\n",
        "  def set_marca( self , m ):\n",
        "    self.__marca = m\n",
        "\n",
        "  def get_marca( self ):\n",
        "    return self.__marca\n",
        "\n",
        "  def to_string( self ):\n",
        "    return \"La marca del telefono es: \" + self.__marca\n",
        "\n",
        "sp1 = SmartPhone(\"Huawei\")\n",
        "print(sp1.to_string()) \n",
        "\n",
        "#Prueba del encapsulamiento\n",
        "sp1.__marca= \"IPhone X\"\n",
        "print(sp1.to_string())\n",
        "\n",
        "sp1.set_marca(\"Samsung\") #Cambio de la marca\n",
        "print(sp1.to_string())\n",
        "print(sp1.get_marca())"
      ],
      "execution_count": 1,
      "outputs": [
        {
          "output_type": "stream",
          "text": [
            "La marca del telefono es: Huawei\n",
            "La marca del telefono es: Huawei\n",
            "La marca del telefono es: Samsung\n",
            "Samsung\n"
          ],
          "name": "stdout"
        }
      ]
    },
    {
      "cell_type": "code",
      "metadata": {
        "id": "CdOPnPOADpFD",
        "outputId": "cc52f9bf-f0cd-4109-9573-1e6eb012e8b9",
        "colab": {
          "base_uri": "https://localhost:8080/",
          "height": 246
        }
      },
      "source": [
        "#encapsulamiento al estido de Phyton3\n",
        "class SmartPhone:\n",
        "    def init(self, m):\n",
        "      #llamando al metodo set\n",
        "      self.marca=m\n",
        "    #con @property se declara un metodo getter de un atributo, el self.marca y se vuelve privado\n",
        "    @property\n",
        "    def marca(self):\n",
        "      #print(\"imprimer el método get\")\n",
        "      return self.marca\n",
        "    @marca.setter\n",
        "    def marca(self, m):\n",
        "      if m in [\"Lenovo\", \"Huawie\", \"IPhone\", \"Motorola\", \"Sony\", \"Xiaomi\"]:\n",
        "        self.__marca=m\n",
        "      else:\n",
        "        print(\"Asignacion no valida\")\n",
        "\n",
        "    def to_string(self):\n",
        "      return \"La marca es: \" + self.marca\n",
        "\n",
        "sp2 = SmartPhone(\"Xiaomi\")\n",
        "print( sp2.to_string() )\n",
        "sp2.__marca = \"iPhone SE\"\n",
        "print( sp2.to_string() )\n",
        "sp2.marca = \"motorola\" \n",
        "print( sp2.to_string() )\n",
        "print(sp2.marca )\n",
        "sp2.marca = \"8724b98 y67e 131\"\n",
        "print( sp2.to_string() )"
      ],
      "execution_count": 10,
      "outputs": [
        {
          "output_type": "error",
          "ename": "TypeError",
          "evalue": "ignored",
          "traceback": [
            "\u001b[0;31m---------------------------------------------------------------------------\u001b[0m",
            "\u001b[0;31mTypeError\u001b[0m                                 Traceback (most recent call last)",
            "\u001b[0;32m<ipython-input-10-3209a0949d5d>\u001b[0m in \u001b[0;36m<module>\u001b[0;34m()\u001b[0m\n\u001b[1;32m     19\u001b[0m       \u001b[0;32mreturn\u001b[0m \u001b[0;34m\"La marca es: \"\u001b[0m \u001b[0;34m+\u001b[0m \u001b[0mself\u001b[0m\u001b[0;34m.\u001b[0m\u001b[0mmarca\u001b[0m\u001b[0;34m\u001b[0m\u001b[0;34m\u001b[0m\u001b[0m\n\u001b[1;32m     20\u001b[0m \u001b[0;34m\u001b[0m\u001b[0m\n\u001b[0;32m---> 21\u001b[0;31m \u001b[0msp2\u001b[0m \u001b[0;34m=\u001b[0m \u001b[0mSmartPhone\u001b[0m\u001b[0;34m(\u001b[0m\u001b[0;34m\"Xiaomi\"\u001b[0m\u001b[0;34m)\u001b[0m\u001b[0;34m\u001b[0m\u001b[0;34m\u001b[0m\u001b[0m\n\u001b[0m\u001b[1;32m     22\u001b[0m \u001b[0mprint\u001b[0m\u001b[0;34m(\u001b[0m \u001b[0msp2\u001b[0m\u001b[0;34m.\u001b[0m\u001b[0mto_string\u001b[0m\u001b[0;34m(\u001b[0m\u001b[0;34m)\u001b[0m \u001b[0;34m)\u001b[0m\u001b[0;34m\u001b[0m\u001b[0;34m\u001b[0m\u001b[0m\n\u001b[1;32m     23\u001b[0m \u001b[0msp2\u001b[0m\u001b[0;34m.\u001b[0m\u001b[0m__marca\u001b[0m \u001b[0;34m=\u001b[0m \u001b[0;34m\"iPhone SE\"\u001b[0m\u001b[0;34m\u001b[0m\u001b[0;34m\u001b[0m\u001b[0m\n",
            "\u001b[0;31mTypeError\u001b[0m: object() takes no parameters"
          ]
        }
      ]
    },
    {
      "cell_type": "code",
      "metadata": {
        "id": "-srPHdbzELya",
        "outputId": "6e1aa847-76b0-4905-974d-5dc99b86a28e",
        "colab": {
          "base_uri": "https://localhost:8080/",
          "height": 247
        }
      },
      "source": [
        "class TelefonoTrabajo(SmartPhone):\n",
        "  def __init__( self , m ):\n",
        "    self.marca = m\n",
        "\n",
        "sp3 = TelefonoTrabajo( \"Motorola\" )\n",
        "print(dir(sp3))\n",
        "print(sp3.to_string())"
      ],
      "execution_count": 4,
      "outputs": [
        {
          "output_type": "stream",
          "text": [
            "['__class__', '__delattr__', '__dict__', '__dir__', '__doc__', '__eq__', '__format__', '__ge__', '__getattribute__', '__gt__', '__hash__', '__init__', '__init_subclass__', '__le__', '__lt__', '__module__', '__ne__', '__new__', '__reduce__', '__reduce_ex__', '__repr__', '__setattr__', '__sizeof__', '__str__', '__subclasshook__', '__weakref__', 'marca']\n"
          ],
          "name": "stdout"
        },
        {
          "output_type": "error",
          "ename": "AttributeError",
          "evalue": "ignored",
          "traceback": [
            "\u001b[0;31m---------------------------------------------------------------------------\u001b[0m",
            "\u001b[0;31mAttributeError\u001b[0m                            Traceback (most recent call last)",
            "\u001b[0;32m<ipython-input-4-ae759191bf13>\u001b[0m in \u001b[0;36m<module>\u001b[0;34m()\u001b[0m\n\u001b[1;32m      5\u001b[0m \u001b[0msp3\u001b[0m \u001b[0;34m=\u001b[0m \u001b[0mTelefonoTrabajo\u001b[0m\u001b[0;34m(\u001b[0m \u001b[0;34m\"Motorola\"\u001b[0m \u001b[0;34m)\u001b[0m\u001b[0;34m\u001b[0m\u001b[0;34m\u001b[0m\u001b[0m\n\u001b[1;32m      6\u001b[0m \u001b[0mprint\u001b[0m\u001b[0;34m(\u001b[0m\u001b[0mdir\u001b[0m\u001b[0;34m(\u001b[0m\u001b[0msp3\u001b[0m\u001b[0;34m)\u001b[0m\u001b[0;34m)\u001b[0m\u001b[0;34m\u001b[0m\u001b[0;34m\u001b[0m\u001b[0m\n\u001b[0;32m----> 7\u001b[0;31m \u001b[0mprint\u001b[0m\u001b[0;34m(\u001b[0m\u001b[0msp3\u001b[0m\u001b[0;34m.\u001b[0m\u001b[0mto_string\u001b[0m\u001b[0;34m(\u001b[0m\u001b[0;34m)\u001b[0m\u001b[0;34m)\u001b[0m\u001b[0;34m\u001b[0m\u001b[0;34m\u001b[0m\u001b[0m\n\u001b[0m",
            "\u001b[0;31mAttributeError\u001b[0m: 'TelefonoTrabajo' object has no attribute 'to_string'"
          ]
        }
      ]
    }
  ]
}