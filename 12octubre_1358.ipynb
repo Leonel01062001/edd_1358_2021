{
  "nbformat": 4,
  "nbformat_minor": 0,
  "metadata": {
    "colab": {
      "name": "12octubre_1358.ipynb",
      "provenance": [],
      "authorship_tag": "ABX9TyO2s14gd1sPAjklzmOXOjvN",
      "include_colab_link": true
    },
    "kernelspec": {
      "name": "python3",
      "display_name": "Python 3"
    }
  },
  "cells": [
    {
      "cell_type": "markdown",
      "metadata": {
        "id": "view-in-github",
        "colab_type": "text"
      },
      "source": [
        "<a href=\"https://colab.research.google.com/github/Leonel01062001/edd_1358_2021/blob/master/12octubre_1358.ipynb\" target=\"_parent\"><img src=\"https://colab.research.google.com/assets/colab-badge.svg\" alt=\"Open In Colab\"/></a>"
      ]
    },
    {
      "cell_type": "code",
      "metadata": {
        "id": "xhhSNkDJWHeu",
        "outputId": "ef858d6f-9a96-4da9-adc2-5229c3746087",
        "colab": {
          "base_uri": "https://localhost:8080/",
          "height": 606
        }
      },
      "source": [
        "# diccionarios\n",
        "cliente_banco = {\n",
        "             \"id\":1,\n",
        "             \"nombres\" : [\"Juan\", \"Antonio\"],\n",
        "             \"paterno\": \"Garcia\", \"materno\": \"Pérez\",\n",
        "             \"telefonos\": {\n",
        "                 \"casa\": 5566778899,\n",
        "                 \"celular\": 5544332211,\n",
        "                 \"trabajo\": 5566223311\n",
        "             },\n",
        "             \"activo\": True,\n",
        "             \"balance\": 2334567.89,\n",
        "             \"tarjetas\": ({\"tipo\": \"debito\", \"saldo\": 12000},\n",
        "                          {\"tipo\": \"credito\", \"saldo\": 3500})\n",
        "\n",
        "\n",
        "}\n",
        "print(cliente_banco)\n",
        "cliente_banco[\"balance\"] = cliente_banco[\"balance\"] - 1000.89\n",
        "#cliente_banco[\"balance\"] -= 1000.89\n",
        "print(cliente_banco)\n",
        "cliente_banco[\"tarjetas\"] =({\"tipo\": \"debito\", \"saldo\": 12000},\n",
        "                            {\"tipo\": \"credito\", \"saldo\": 3500},\n",
        "                            {\"tipo\": \"credito\",\"nivel\": \"oro\" ,\"saldo\": 5000})\n",
        "print(cliente_banco)\n",
        "cliente_banco[\"direccion\"]={\"calle\":\"rancho seco\",\"num\":23}\n",
        "print(cliente_banco)\n",
        "cliente_banco.pop(\"tarjetas\")\n",
        "print(cliente_banco)\n",
        "llaves = cliente_banco.keys()\n",
        "print(llaves)\n",
        "for x in llaves:\n",
        "  print(x)\n",
        "\n",
        "valores = cliente_banco.values()\n",
        "for v in valores:\n",
        "  print(v)\n",
        "\n",
        "pares = cliente_banco.items()\n",
        "print(pares)\n",
        "\n",
        "for elem in pares:\n",
        "  print(f\" {elem[0]} = {elem[1]}\")"
      ],
      "execution_count": 10,
      "outputs": [
        {
          "output_type": "stream",
          "text": [
            "{'id': 1, 'nombres': ['Juan', 'Antonio'], 'paterno': 'Garcia', 'materno': 'Pérez', 'telefonos': {'casa': 5566778899, 'celular': 5544332211, 'trabajo': 5566223311}, 'activo': True, 'balance': 2334567.89, 'tarjetas': ({'tipo': 'debito', 'saldo': 12000}, {'tipo': 'credito', 'saldo': 3500})}\n",
            "{'id': 1, 'nombres': ['Juan', 'Antonio'], 'paterno': 'Garcia', 'materno': 'Pérez', 'telefonos': {'casa': 5566778899, 'celular': 5544332211, 'trabajo': 5566223311}, 'activo': True, 'balance': 2333567.0, 'tarjetas': ({'tipo': 'debito', 'saldo': 12000}, {'tipo': 'credito', 'saldo': 3500})}\n",
            "{'id': 1, 'nombres': ['Juan', 'Antonio'], 'paterno': 'Garcia', 'materno': 'Pérez', 'telefonos': {'casa': 5566778899, 'celular': 5544332211, 'trabajo': 5566223311}, 'activo': True, 'balance': 2333567.0, 'tarjetas': ({'tipo': 'debito', 'saldo': 12000}, {'tipo': 'credito', 'saldo': 3500}, {'tipo': 'credito', 'nivel': 'oro', 'saldo': 5000})}\n",
            "{'id': 1, 'nombres': ['Juan', 'Antonio'], 'paterno': 'Garcia', 'materno': 'Pérez', 'telefonos': {'casa': 5566778899, 'celular': 5544332211, 'trabajo': 5566223311}, 'activo': True, 'balance': 2333567.0, 'tarjetas': ({'tipo': 'debito', 'saldo': 12000}, {'tipo': 'credito', 'saldo': 3500}, {'tipo': 'credito', 'nivel': 'oro', 'saldo': 5000}), 'direccion': {'calle': 'rancho seco', 'num': 23}}\n",
            "{'id': 1, 'nombres': ['Juan', 'Antonio'], 'paterno': 'Garcia', 'materno': 'Pérez', 'telefonos': {'casa': 5566778899, 'celular': 5544332211, 'trabajo': 5566223311}, 'activo': True, 'balance': 2333567.0, 'direccion': {'calle': 'rancho seco', 'num': 23}}\n",
            "dict_keys(['id', 'nombres', 'paterno', 'materno', 'telefonos', 'activo', 'balance', 'direccion'])\n",
            "id\n",
            "nombres\n",
            "paterno\n",
            "materno\n",
            "telefonos\n",
            "activo\n",
            "balance\n",
            "direccion\n",
            "1\n",
            "['Juan', 'Antonio']\n",
            "Garcia\n",
            "Pérez\n",
            "{'casa': 5566778899, 'celular': 5544332211, 'trabajo': 5566223311}\n",
            "True\n",
            "2333567.0\n",
            "{'calle': 'rancho seco', 'num': 23}\n",
            "dict_items([('id', 1), ('nombres', ['Juan', 'Antonio']), ('paterno', 'Garcia'), ('materno', 'Pérez'), ('telefonos', {'casa': 5566778899, 'celular': 5544332211, 'trabajo': 5566223311}), ('activo', True), ('balance', 2333567.0), ('direccion', {'calle': 'rancho seco', 'num': 23})])\n",
            " id = 1\n",
            " nombres = ['Juan', 'Antonio']\n",
            " paterno = Garcia\n",
            " materno = Pérez\n",
            " telefonos = {'casa': 5566778899, 'celular': 5544332211, 'trabajo': 5566223311}\n",
            " activo = True\n",
            " balance = 2333567.0\n",
            " direccion = {'calle': 'rancho seco', 'num': 23}\n"
          ],
          "name": "stdout"
        }
      ]
    },
    {
      "cell_type": "code",
      "metadata": {
        "id": "8Q-ShFaeg6xY",
        "outputId": "3125bdaa-477a-49b8-fafd-a4b1e9708bd2",
        "colab": {
          "base_uri": "https://localhost:8080/",
          "height": 35
        }
      },
      "source": [
        "fruta = {\"nombre\": \"manzana\", \"color\": \"rojo\", \"estado\": \"Chihuahua\"}\n",
        "otras_caracteristicas = {\"vitamina\":\"D\"}\n",
        "fruta.update(otras_caracteristicas)\n",
        "print(fruta)"
      ],
      "execution_count": 11,
      "outputs": [
        {
          "output_type": "stream",
          "text": [
            "{'nombre': 'manzana', 'color': 'rojo', 'estado': 'Chihuahua', 'vitamina': 'D'}\n"
          ],
          "name": "stdout"
        }
      ]
    },
    {
      "cell_type": "markdown",
      "metadata": {
        "id": "4Ik16zcZiQP8"
      },
      "source": [
        "# Funciones\n",
        "- recibe de 0 a n argumentos de entrana\n",
        "- regresa solo un valor, aunque ese valor sea None(nulo).\n",
        "-tiene un nombre unico en el contexto.\n",
        "-se pueden hacer solo dos cosas con fuinciones\n",
        " 1. definirla\n",
        " 1. llamarla"
      ]
    },
    {
      "cell_type": "code",
      "metadata": {
        "id": "kgZAemX7jKD7",
        "outputId": "32c66a1f-325b-4b08-e1d8-722bb65d36c4",
        "colab": {
          "base_uri": "https://localhost:8080/",
          "height": 54
        }
      },
      "source": [
        "def suma (a,b):\n",
        "  return a+b\n",
        "\n",
        "def saludar():\n",
        "  print(\"Hello, how are you?\")\n",
        "  return None\n",
        "#def suma (x,y):\n",
        " # return None\n",
        "\n",
        "x = 10\n",
        "y = 20\n",
        "c = suma(x,y)\n",
        "print(c)\n",
        "saludar()"
      ],
      "execution_count": 14,
      "outputs": [
        {
          "output_type": "stream",
          "text": [
            "30\n",
            "Hello, how are you?\n"
          ],
          "name": "stdout"
        }
      ]
    },
    {
      "cell_type": "markdown",
      "metadata": {
        "id": "jxcSJ2RTkti9"
      },
      "source": [
        " # None y las funciones\n",
        " Aprovechar el uso de None en paso de paramentros.\n",
        " "
      ]
    },
    {
      "cell_type": "code",
      "metadata": {
        "id": "cw0cAmiPk4tF",
        "outputId": "d66fbcfe-fdbb-4bee-9141-547ba63ef6a5",
        "colab": {
          "base_uri": "https://localhost:8080/",
          "height": 54
        }
      },
      "source": [
        "def calcular( base, veces):\n",
        "  if base != None:\n",
        "   resultado = base * veces\n",
        "  else:\n",
        "     resultado = \"desconocido\"\n",
        "  return resultado\n",
        "\n",
        "print(calcular(4,3))\n",
        "print(calcular(None,3))"
      ],
      "execution_count": 18,
      "outputs": [
        {
          "output_type": "stream",
          "text": [
            "12\n",
            "desconocido\n"
          ],
          "name": "stdout"
        }
      ]
    }
  ]
}