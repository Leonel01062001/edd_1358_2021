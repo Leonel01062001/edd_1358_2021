{
  "nbformat": 4,
  "nbformat_minor": 0,
  "metadata": {
    "colab": {
      "name": "28octubre_1358.ipynb",
      "provenance": [],
      "authorship_tag": "ABX9TyMu4nEqlw3f+x2goWIDgs8X",
      "include_colab_link": true
    },
    "kernelspec": {
      "name": "python3",
      "display_name": "Python 3"
    }
  },
  "cells": [
    {
      "cell_type": "markdown",
      "metadata": {
        "id": "view-in-github",
        "colab_type": "text"
      },
      "source": [
        "<a href=\"https://colab.research.google.com/github/Leonel01062001/edd_1358_2021/blob/master/28octubre_1358.ipynb\" target=\"_parent\"><img src=\"https://colab.research.google.com/assets/colab-badge.svg\" alt=\"Open In Colab\"/></a>"
      ]
    },
    {
      "cell_type": "code",
      "metadata": {
        "id": "J3bsYa1CooSM",
        "outputId": "a0b37ca4-f30c-4da3-aea0-78f0f2677c50",
        "colab": {
          "base_uri": "https://localhost:8080/",
          "height": 237
        }
      },
      "source": [
        "\"\"\"\n",
        "Array\n",
        "\"\"\"\n",
        "class Array:\n",
        "  def __init__(self , tam ):\n",
        "    self.__datos = [ 0 for x in range(tam)] #generadores\n",
        "\n",
        "  def get_item( self, index ):\n",
        "    dato = 0\n",
        "    if index >= 0 and index < len(self.__datos):\n",
        "      dato = self.__datos[index]\n",
        "    else:\n",
        "      print(\"Error en el indice\")\n",
        "    return dato\n",
        "\n",
        "  def set_item( self, dato, index):\n",
        "    if index >= 0 and index < len(self.__datos):\n",
        "      self.__datos[index] = dato\n",
        "    else:\n",
        "      print(\"Error en el indice\")\n",
        "\n",
        "  def get_lenght(self):\n",
        "    #obtener tamaño del arreglo\n",
        "    return len(self.__datos)\n",
        "\n",
        "  def clear( self, dato ):\n",
        "    self.__datos = [dato for x in range(self.__tam)]\n",
        "\n",
        "  def getIterator( self ):\n",
        "    return _getIterator( self.__datos )\n",
        "\n",
        "class _getIterator:\n",
        "  def __init__(self , arreglo ):\n",
        "    self.__arreglo = arreglo\n",
        "    self.__indice_actual = 0\n",
        "\n",
        "  def __iter__( self ):\n",
        "    return self\n",
        "\n",
        "  def __next__( self ):\n",
        "    if self.__indice_actual < len(self.__arreglo):\n",
        "      dato = self.__arreglo[self.__indice_actual]\n",
        "      self.__indice_actual += 1\n",
        "      return dato\n",
        "    else:\n",
        "      raise StopIteration\n",
        "\n",
        "\n",
        "mi_arreglo = Array(10)\n",
        "print(mi_arreglo.get_item( 2 ))\n",
        "mi_arreglo.set_item( 2345, 3)\n",
        "print(mi_arreglo.get_item( 3 ))\n",
        "\n",
        "for x in mi_arreglo.getIterator():\n",
        "  print(x)"
      ],
      "execution_count": 33,
      "outputs": [
        {
          "output_type": "stream",
          "text": [
            "0\n",
            "2345\n",
            "0\n",
            "0\n",
            "0\n",
            "2345\n",
            "0\n",
            "0\n",
            "0\n",
            "0\n",
            "0\n",
            "0\n"
          ],
          "name": "stdout"
        }
      ]
    },
    {
      "cell_type": "code",
      "metadata": {
        "id": "9niIWi1JGvoG",
        "outputId": "e3294ab2-057d-4ec0-c0ed-e107bd970cd5",
        "colab": {
          "base_uri": "https://localhost:8080/",
          "height": 35
        }
      },
      "source": [
        "basura = [\"manzana\", \"pera\"]\n",
        "datos = [ x.upper() for x in basura ]\n",
        "print(datos)"
      ],
      "execution_count": 18,
      "outputs": [
        {
          "output_type": "stream",
          "text": [
            "['MANZANA', 'PERA']\n"
          ],
          "name": "stdout"
        }
      ]
    },
    {
      "cell_type": "markdown",
      "metadata": {
        "id": "3V2ywn7sIYdh"
      },
      "source": [
        "[[0,0,0],\n",
        " [0,0,0],\n",
        " [0,0,0]]"
      ]
    },
    {
      "cell_type": "code",
      "metadata": {
        "id": "0YhX4MlbITVU",
        "outputId": "2951d66f-b9f0-45dc-9921-ef6e4d941f0a",
        "colab": {
          "base_uri": "https://localhost:8080/",
          "height": 55
        }
      },
      "source": [
        "# Lista de 2dimensiones\n",
        "ren = 4\n",
        "col = 6\n",
        "dos_d = [ [0 for x in range(col)] for x in range(ren)]\n",
        "print(dos_d)"
      ],
      "execution_count": 22,
      "outputs": [
        {
          "output_type": "stream",
          "text": [
            "[[0, 0, 0, 0, 0, 0], [0, 0, 0, 0, 0, 0], [0, 0, 0, 0, 0, 0], [0, 0, 0, 0, 0, 0]]\n"
          ],
          "name": "stdout"
        }
      ]
    }
  ]
}