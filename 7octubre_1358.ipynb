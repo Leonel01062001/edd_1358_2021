{
  "nbformat": 4,
  "nbformat_minor": 0,
  "metadata": {
    "colab": {
      "name": "7octubre_1358.ipynb",
      "provenance": [],
      "authorship_tag": "ABX9TyNXSIjwUv5zI9uU9mF4gV7y",
      "include_colab_link": true
    },
    "kernelspec": {
      "name": "python3",
      "display_name": "Python 3"
    }
  },
  "cells": [
    {
      "cell_type": "markdown",
      "metadata": {
        "id": "view-in-github",
        "colab_type": "text"
      },
      "source": [
        "<a href=\"https://colab.research.google.com/github/Leonel01062001/edd_1358_2021/blob/master/7octubre_1358.ipynb\" target=\"_parent\"><img src=\"https://colab.research.google.com/assets/colab-badge.svg\" alt=\"Open In Colab\"/></a>"
      ]
    },
    {
      "cell_type": "code",
      "metadata": {
        "id": "4okxFlvZmnP1",
        "outputId": "0d1ecc15-0b7f-4928-95ce-29cc8d58ab0d",
        "colab": {
          "base_uri": "https://localhost:8080/"
        }
      },
      "source": [
        "#Listas multidimension\n",
        "\n",
        "autos = [\"Mazda\",\"honda\",\"Akura\",\"Ford\",\"VW\"]\n",
        "telefonos = [\"iPhone\",\"Huawei Mate 30\", \"Xiaomi S10\",\"Alcatel t1000\"]\n",
        "sistemas_operativos = [ \"Windows\", \"Linux\" , \"Android\" , \"iOS\" ,\"MacOs\" ]\n",
        "procesadores = [[\"intel\", 3.1, True],[\"AMD\",2.7, False],[\"Motorola\", 1.1, False]]\n",
        "\n",
        "\n",
        "lista_nd = [autos,telefonos,sistemas_operativos, procesadores]\n",
        "print(lista_nd)\n",
        "print(lista_nd[2][3]) #para ver iOS\n",
        "print(lista_nd[1][1][3:6]) #para ver wei\n",
        "print(lista_nd[3][1][1]) #ver la velocidad del procesador AMD\n",
        "print(lista_nd[3][2][0][2:6]) #Imprimir \"toro\" de motorola\n",
        "print(lista_nd[3][0][0][3:0:-1]) #Imprimir nte (de intel) al revéz\n",
        "\n",
        "\n",
        "colores = [\"rojo\", \"verde\", \"azul\", \"Negor\"]\n",
        "flores = [\"margarita\", \"rosa\"]\n",
        "#concatenar listas con \"+\"\n",
        "nueva = colores + flores\n",
        "print(nueva)\n",
        "print(colores)\n",
        "print(flores)\n",
        "#con extends:\n",
        "colores.extend(flores)\n",
        "print(colores)\n",
        "\n",
        "#unpacking de listas\n",
        "print(\"unpacking\")\n",
        "datos_personales = [\"José\", \"Pérez\", \"Juárez\", 22, 1.67, True]\n",
        "nombre,paterno,materno,edad,estatura,fuma = datos_personales\n",
        "print(f\"nombre: {nombre}\\n Edad: {edad}\")\n"
      ],
      "execution_count": 13,
      "outputs": [
        {
          "output_type": "stream",
          "text": [
            "[['Mazda', 'honda', 'Akura', 'Ford', 'VW'], ['iPhone', 'Huawei Mate 30', 'Xiaomi S10', 'Alcatel t1000'], ['Windows', 'Linux', 'Android', 'iOS', 'MacOs'], [['intel', 3.1, True], ['AMD', 2.7, False], ['Motorola', 1.1, False]]]\n",
            "iOS\n",
            "wei\n",
            "2.7\n",
            "toro\n",
            "etn\n",
            "['rojo', 'verde', 'azul', 'Negor', 'margarita', 'rosa']\n",
            "['rojo', 'verde', 'azul', 'Negor']\n",
            "['margarita', 'rosa']\n",
            "['rojo', 'verde', 'azul', 'Negor', 'margarita', 'rosa']\n",
            "unpacking\n",
            "nombre: José\n",
            " Edad: 22\n"
          ],
          "name": "stdout"
        }
      ]
    },
    {
      "cell_type": "code",
      "metadata": {
        "id": "NefzyVnZuJ-q"
      },
      "source": [
        "#Tuplas\n",
        "bd = (\"127.0.0.1\", \"roo\", \"toor\", \"1345\")\n",
        "print(f\"usuario de la bd es {bd[1]}\")\n",
        "# bd[1] = \"user1\" no se puede modificar porque es tupla\n",
        "print(bd[1:3])"
      ],
      "execution_count": null,
      "outputs": []
    },
    {
      "cell_type": "code",
      "metadata": {
        "id": "-5new5cFwUlf",
        "outputId": "7a9e2c45-c6f1-4c56-f168-6bcc213328f8",
        "colab": {
          "base_uri": "https://localhost:8080/"
        }
      },
      "source": [
        "#Diccionarios\n",
        "alumno = {\"nombre\" : \"juan\", \"edad\" :22, \"carrera\": \"ICO\"}\n",
        "print(alumno)\n",
        "print(alumno[\"edad\"])\n",
        "alumno = {\n",
        "    \"nombre\" : \"Juan\",\n",
        "    \"edad\" : 22,\n",
        "    \"carrera\" : \"ICO\",\n",
        "    \"dirección\" : {\"calle\" : \"Bosques de África\", \n",
        "                   \"numero\":33,\n",
        "                   \"delegación\" : \"Nezahualcoyotl\",\n",
        "                   \"estado\" : 15,\n",
        "                   \"nombre_estado\": \"Estado de México\"\n",
        "                   }\n",
        "    }\n",
        "print(alumno[\"dirección\"])\n",
        "print(alumno [\"dirección\"][\"delegación\"])\n",
        "print(alumno [\"dirección\"][\"delegación\"][3:7])\n",
        "print(alumno [\"dirección\"][\"delegación\"][3:7].upper() )\n",
        "alumno[\"edad\"] = 35\n",
        "print(alumno)\n",
        "alumno[\"promedio\"] = 9.9\n",
        "print(alumno)\n",
        "alumno[\"dirección\"][\"cp\"] = 15200\n",
        "print(alumno)\n",
        "alumno[\"materioas\"] = {\"nombre\" : \"CyP\", \"calificación\": 10}\n",
        "print(alumno)\n",
        "print(\"--------------------------------------\")\n",
        "cliente = { \"id\" : 1 , \"nombre\" : \"Carlos Slim\"}\n",
        "print(cliente)\n"
      ],
      "execution_count": 33,
      "outputs": [
        {
          "output_type": "stream",
          "text": [
            "{'nombre': 'juan', 'edad': 22, 'carrera': 'ICO'}\n",
            "22\n",
            "{'calle': 'Bosques de África', 'numero': 33, 'delegación': 'Nezahualcoyotl', 'estado': 15, 'nombre_estado': 'Estado de México'}\n",
            "Nezahualcoyotl\n",
            "ahua\n",
            "AHUA\n",
            "{'nombre': 'Juan', 'edad': 35, 'carrera': 'ICO', 'dirección': {'calle': 'Bosques de África', 'numero': 33, 'delegación': 'Nezahualcoyotl', 'estado': 15, 'nombre_estado': 'Estado de México'}}\n",
            "{'nombre': 'Juan', 'edad': 35, 'carrera': 'ICO', 'dirección': {'calle': 'Bosques de África', 'numero': 33, 'delegación': 'Nezahualcoyotl', 'estado': 15, 'nombre_estado': 'Estado de México'}, 'promedio': 9.9}\n",
            "{'nombre': 'Juan', 'edad': 35, 'carrera': 'ICO', 'dirección': {'calle': 'Bosques de África', 'numero': 33, 'delegación': 'Nezahualcoyotl', 'estado': 15, 'nombre_estado': 'Estado de México', 'cp': 15200}, 'promedio': 9.9}\n",
            "{'nombre': 'Juan', 'edad': 35, 'carrera': 'ICO', 'dirección': {'calle': 'Bosques de África', 'numero': 33, 'delegación': 'Nezahualcoyotl', 'estado': 15, 'nombre_estado': 'Estado de México', 'cp': 15200}, 'promedio': 9.9, 'materioas': {'nombre': 'CyP', 'calificación': 10}}\n",
            "--------------------------------------\n",
            "{'id': 1, 'nombre': 'Carlos Slim'}\n"
          ],
          "name": "stdout"
        }
      ]
    }
  ]
}